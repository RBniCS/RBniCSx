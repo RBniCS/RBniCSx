{
 "cells": [
  {
   "cell_type": "code",
   "execution_count": null,
   "id": "deadfd30",
   "metadata": {},
   "outputs": [],
   "source": [
    "import dolfinx.common\n",
    "import dolfinx.fem\n",
    "import dolfinx.geometry\n",
    "import dolfinx.graph\n",
    "import dolfinx.io\n",
    "import dolfinx.jit\n",
    "import dolfinx.la\n",
    "import dolfinx.log\n",
    "import dolfinx.mesh\n",
    "import dolfinx.nls\n",
    "import dolfinx.plot\n",
    "import gmsh\n",
    "import multiphenicsx.fem\n",
    "import multiphenicsx.io"
   ]
  },
  {
   "cell_type": "code",
   "execution_count": null,
   "id": "d8268fa7",
   "metadata": {},
   "outputs": [],
   "source": [
    "import rbnicsx.backends\n",
    "import rbnicsx.io\n",
    "import rbnicsx.online\n",
    "import rbnicsx.test"
   ]
  }
 ],
 "metadata": {
  "kernelspec": {
   "display_name": "Python 3 (ipykernel)",
   "language": "python",
   "name": "python3"
  },
  "language_info": {
   "codemirror_mode": {
    "name": "ipython"
   },
   "file_extension": ".py",
   "mimetype": "text/x-python",
   "name": "python",
   "nbconvert_exporter": "python"
  }
 },
 "nbformat": 4,
 "nbformat_minor": 5
}
