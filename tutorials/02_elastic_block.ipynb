{
 "cells": [
  {
   "cell_type": "markdown",
   "id": "2bbdab82",
   "metadata": {},
   "source": [
    "# Tutorial 02 - Elastic Block"
   ]
  },
  {
   "cell_type": "code",
   "execution_count": null,
   "id": "ea3a729b",
   "metadata": {},
   "outputs": [],
   "source": [
    "import typing"
   ]
  },
  {
   "cell_type": "code",
   "execution_count": null,
   "id": "6dc5962a",
   "metadata": {},
   "outputs": [],
   "source": [
    "# import dolfinx\n",
    "import gmsh\n",
    "import multiphenicsx.io\n",
    "import multiphenicsx.mesh"
   ]
  },
  {
   "cell_type": "code",
   "execution_count": null,
   "id": "1d75b954",
   "metadata": {},
   "outputs": [],
   "source": [
    "# import rbnicsx"
   ]
  },
  {
   "cell_type": "markdown",
   "id": "585c1fcd",
   "metadata": {},
   "source": [
    "## 1. Mesh generation"
   ]
  },
  {
   "cell_type": "code",
   "execution_count": null,
   "id": "9091e533",
   "metadata": {},
   "outputs": [],
   "source": [
    "def generate_rectangular_subdomains(\n",
    "    x: typing.List[float], y: typing.List[float], mesh_size: float\n",
    ") -> typing.Tuple[int]:\n",
    "    \"\"\"Add points and lines that define rectangular subdomains with the provided coordinates.\"\"\"\n",
    "    points = [[gmsh.model.geo.addPoint(x_, y_, 0.0, mesh_size) for y_ in y] for x_ in x]\n",
    "    horizontal_lines = [\n",
    "        [gmsh.model.geo.addLine(points[i][j], points[i + 1][j]) for j in range(len(points[i]))]\n",
    "        for i in range(len(points) - 1)]\n",
    "    vertical_lines = [\n",
    "        [gmsh.model.geo.addLine(points[i][j], points[i][j + 1]) for j in range(len(points[i]) - 1)]\n",
    "        for i in range(len(points))]\n",
    "    curve_loops = [\n",
    "        [gmsh.model.geo.addCurveLoop([\n",
    "            horizontal_lines[i][j], vertical_lines[i + 1][j],\n",
    "            - horizontal_lines[i][j + 1], - vertical_lines[i][j]]) for j in range(len(points[i]) - 1)]\n",
    "        for i in range(len(points) - 1)]\n",
    "    boundaries = [\n",
    "        [{\n",
    "            \"horizontal\": (\n",
    "                horizontal_lines[i][j] if j == 0 else\n",
    "                horizontal_lines[i][j + 1] if j == len(points[i]) - 2 else None),\n",
    "            \"vertical\": (\n",
    "                vertical_lines[i][j] if i == 0 else\n",
    "                vertical_lines[i + 1][j] if i == len(points) - 2 else None)\n",
    "        } for j in range(len(points[i]) - 1)]\n",
    "        for i in range(len(points) - 1)]\n",
    "    subdomains = [\n",
    "        [gmsh.model.geo.addPlaneSurface([curve_loops[i][j]]) for j in range(len(points[i]) - 1)]\n",
    "        for i in range(len(points) - 1)]\n",
    "    return subdomains, boundaries"
   ]
  },
  {
   "cell_type": "code",
   "execution_count": null,
   "id": "744cbb87",
   "metadata": {},
   "outputs": [],
   "source": [
    "mesh_size = 5e-2"
   ]
  },
  {
   "cell_type": "code",
   "execution_count": null,
   "id": "60d381fc",
   "metadata": {},
   "outputs": [],
   "source": [
    "gmsh.initialize()\n",
    "gmsh.model.add(\"elastic_block\")"
   ]
  },
  {
   "cell_type": "code",
   "execution_count": null,
   "id": "914fe9fe",
   "metadata": {},
   "outputs": [],
   "source": [
    "gmsh_subdomains, gmsh_boundaries = generate_rectangular_subdomains(\n",
    "    [i / 3. for i in range(4)], [j / 3. for j in range(4)], mesh_size)"
   ]
  },
  {
   "cell_type": "code",
   "execution_count": null,
   "id": "9dbd2a75",
   "metadata": {},
   "outputs": [],
   "source": [
    "gmsh.model.geo.synchronize()\n",
    "for i in range(3):\n",
    "    for j in range(3):\n",
    "        gmsh.model.addPhysicalGroup(2, [gmsh_subdomains[i][j]], i + 3 * j + 1)\n",
    "gmsh.model.addPhysicalGroup(1, [gmsh_boundaries[i][0][\"horizontal\"] for i in range(3)], 1)\n",
    "[gmsh.model.addPhysicalGroup(1, [gmsh_boundaries[2][j][\"vertical\"]], j + 2) for j in range(3)]\n",
    "gmsh.model.addPhysicalGroup(1, [gmsh_boundaries[i][2][\"horizontal\"] for i in range(3)], 5)\n",
    "gmsh.model.addPhysicalGroup(1, [gmsh_boundaries[0][j][\"vertical\"] for j in range(3)], 6)\n",
    "gmsh.model.mesh.generate(2)"
   ]
  },
  {
   "cell_type": "code",
   "execution_count": null,
   "id": "2833e31a",
   "metadata": {},
   "outputs": [],
   "source": [
    "mesh, subdomains, boundaries = multiphenicsx.mesh.gmsh_to_fenicsx(gmsh.model, gdim=2)\n",
    "gmsh.finalize()"
   ]
  },
  {
   "cell_type": "code",
   "execution_count": null,
   "id": "51a89082",
   "metadata": {},
   "outputs": [],
   "source": [
    "multiphenicsx.io.plot_mesh(mesh)"
   ]
  },
  {
   "cell_type": "code",
   "execution_count": null,
   "id": "809e5311",
   "metadata": {},
   "outputs": [],
   "source": [
    "multiphenicsx.io.plot_mesh_tags(subdomains)"
   ]
  },
  {
   "cell_type": "code",
   "execution_count": null,
   "id": "daf3d3b0",
   "metadata": {},
   "outputs": [],
   "source": [
    "multiphenicsx.io.plot_mesh_tags(boundaries)"
   ]
  }
 ],
 "metadata": {
  "kernelspec": {
   "display_name": "Python 3 (ipykernel)",
   "language": "python",
   "name": "python3"
  },
  "language_info": {
   "codemirror_mode": {
    "name": "ipython"
   },
   "file_extension": ".py",
   "mimetype": "text/x-python",
   "name": "python",
   "nbconvert_exporter": "python"
  }
 },
 "nbformat": 4,
 "nbformat_minor": 5
}
