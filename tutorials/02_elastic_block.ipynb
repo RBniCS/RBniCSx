{
 "cells": [
  {
   "cell_type": "markdown",
   "id": "2bbdab82",
   "metadata": {},
   "source": [
    "# Tutorial 02 - Elastic Block"
   ]
  },
  {
   "cell_type": "code",
   "execution_count": null,
   "id": "ea3a729b",
   "metadata": {},
   "outputs": [],
   "source": [
    "import typing"
   ]
  },
  {
   "cell_type": "code",
   "execution_count": null,
   "id": "6dc5962a",
   "metadata": {},
   "outputs": [],
   "source": [
    "import dolfinx.fem\n",
    "import gmsh\n",
    "import multiphenicsx.io\n",
    "import multiphenicsx.mesh\n",
    "import numpy as np\n",
    "import petsc4py\n",
    "import ufl"
   ]
  },
  {
   "cell_type": "code",
   "execution_count": null,
   "id": "1d75b954",
   "metadata": {},
   "outputs": [],
   "source": [
    "import rbnicsx.backends"
   ]
  },
  {
   "cell_type": "markdown",
   "id": "585c1fcd",
   "metadata": {},
   "source": [
    "## 1. Mesh generation"
   ]
  },
  {
   "cell_type": "code",
   "execution_count": null,
   "id": "9091e533",
   "metadata": {},
   "outputs": [],
   "source": [
    "def generate_rectangular_subdomains(\n",
    "    x: typing.List[float], y: typing.List[float], mesh_size: float\n",
    ") -> typing.Tuple[int]:\n",
    "    \"\"\"Add points and lines that define rectangular subdomains with the provided coordinates.\"\"\"\n",
    "    points = [[gmsh.model.geo.addPoint(x_, y_, 0.0, mesh_size) for y_ in y] for x_ in x]\n",
    "    horizontal_lines = [\n",
    "        [gmsh.model.geo.addLine(points[i][j], points[i + 1][j]) for j in range(len(points[i]))]\n",
    "        for i in range(len(points) - 1)]\n",
    "    vertical_lines = [\n",
    "        [gmsh.model.geo.addLine(points[i][j], points[i][j + 1]) for j in range(len(points[i]) - 1)]\n",
    "        for i in range(len(points))]\n",
    "    curve_loops = [\n",
    "        [gmsh.model.geo.addCurveLoop([\n",
    "            horizontal_lines[i][j], vertical_lines[i + 1][j],\n",
    "            - horizontal_lines[i][j + 1], - vertical_lines[i][j]]) for j in range(len(points[i]) - 1)]\n",
    "        for i in range(len(points) - 1)]\n",
    "    boundaries = [\n",
    "        [{\n",
    "            \"horizontal\": (\n",
    "                horizontal_lines[i][j] if j == 0 else\n",
    "                horizontal_lines[i][j + 1] if j == len(points[i]) - 2 else None),\n",
    "            \"vertical\": (\n",
    "                vertical_lines[i][j] if i == 0 else\n",
    "                vertical_lines[i + 1][j] if i == len(points) - 2 else None)\n",
    "        } for j in range(len(points[i]) - 1)]\n",
    "        for i in range(len(points) - 1)]\n",
    "    subdomains = [\n",
    "        [gmsh.model.geo.addPlaneSurface([curve_loops[i][j]]) for j in range(len(points[i]) - 1)]\n",
    "        for i in range(len(points) - 1)]\n",
    "    return subdomains, boundaries"
   ]
  },
  {
   "cell_type": "code",
   "execution_count": null,
   "id": "744cbb87",
   "metadata": {},
   "outputs": [],
   "source": [
    "mesh_size = 5e-2"
   ]
  },
  {
   "cell_type": "code",
   "execution_count": null,
   "id": "60d381fc",
   "metadata": {},
   "outputs": [],
   "source": [
    "gmsh.initialize()\n",
    "gmsh.model.add(\"elastic_block\")"
   ]
  },
  {
   "cell_type": "code",
   "execution_count": null,
   "id": "914fe9fe",
   "metadata": {},
   "outputs": [],
   "source": [
    "gmsh_subdomains, gmsh_boundaries = generate_rectangular_subdomains(\n",
    "    [i / 3. for i in range(4)], [j / 3. for j in range(4)], mesh_size)"
   ]
  },
  {
   "cell_type": "code",
   "execution_count": null,
   "id": "9dbd2a75",
   "metadata": {},
   "outputs": [],
   "source": [
    "gmsh.model.geo.synchronize()\n",
    "for i in range(3):\n",
    "    for j in range(3):\n",
    "        gmsh.model.addPhysicalGroup(2, [gmsh_subdomains[i][j]], i + 3 * j + 1)\n",
    "gmsh.model.addPhysicalGroup(1, [gmsh_boundaries[i][0][\"horizontal\"] for i in range(3)], 1)\n",
    "[gmsh.model.addPhysicalGroup(1, [gmsh_boundaries[2][j][\"vertical\"]], j + 2) for j in range(3)]\n",
    "gmsh.model.addPhysicalGroup(1, [gmsh_boundaries[i][2][\"horizontal\"] for i in range(3)], 5)\n",
    "gmsh.model.addPhysicalGroup(1, [gmsh_boundaries[0][j][\"vertical\"] for j in range(3)], 6)\n",
    "gmsh.model.mesh.generate(2)"
   ]
  },
  {
   "cell_type": "code",
   "execution_count": null,
   "id": "2833e31a",
   "metadata": {},
   "outputs": [],
   "source": [
    "mesh, subdomains, boundaries = multiphenicsx.mesh.gmsh_to_fenicsx(gmsh.model, gdim=2)\n",
    "gmsh.finalize()"
   ]
  },
  {
   "cell_type": "code",
   "execution_count": null,
   "id": "51a89082",
   "metadata": {},
   "outputs": [],
   "source": [
    "multiphenicsx.io.plot_mesh(mesh)"
   ]
  },
  {
   "cell_type": "code",
   "execution_count": null,
   "id": "809e5311",
   "metadata": {},
   "outputs": [],
   "source": [
    "multiphenicsx.io.plot_mesh_tags(subdomains)"
   ]
  },
  {
   "cell_type": "code",
   "execution_count": null,
   "id": "daf3d3b0",
   "metadata": {},
   "outputs": [],
   "source": [
    "multiphenicsx.io.plot_mesh_tags(boundaries)"
   ]
  },
  {
   "cell_type": "markdown",
   "id": "13cf2d4b",
   "metadata": {},
   "source": [
    "## 2. Problem definition"
   ]
  },
  {
   "cell_type": "code",
   "execution_count": null,
   "id": "cd40c9e1",
   "metadata": {},
   "outputs": [],
   "source": [
    "class Problem(object):\n",
    "    \"\"\"Define a linear problem, and solve it with KSP.\"\"\"\n",
    "\n",
    "    def __init__(self) -> None:\n",
    "        # Define function space\n",
    "        V = dolfinx.fem.VectorFunctionSpace(mesh, (\"Lagrange\", 1))\n",
    "        self._V = V\n",
    "        # Define trial and test functions\n",
    "        u = ufl.TrialFunction(V)\n",
    "        v = ufl.TestFunction(V)\n",
    "        # Define measures for integration of forms\n",
    "        dx = ufl.Measure(\"dx\")(subdomain_data=subdomains)\n",
    "        ds = ufl.Measure(\"ds\")(subdomain_data=boundaries)\n",
    "        # Define symbolic parameters for use in UFL forms\n",
    "        mu_symb = rbnicsx.backends.SymbolicParameters(mesh, shape=(11, ))\n",
    "        self._mu_symb = mu_symb\n",
    "        # Define bilinear form of the problem\n",
    "        a = sum([(mu_symb[p] if p < 8 else 1.0) * self._elasticity(u, v) * dx(p + 1) for p in range(9)])\n",
    "        self._a = a\n",
    "        self._a_cpp = dolfinx.fem.form(a)\n",
    "        # Define linear form of the problem\n",
    "        f = sum([ufl.inner(mu_symb[p], v[0]) * ds(p - 6) for p in range(8, 11)])\n",
    "        self._f = f\n",
    "        self._f_cpp = dolfinx.fem.form(f)\n",
    "        # Define boundary conditions for the problem\n",
    "        zero_vector = np.zeros(mesh.topology.dim, petsc4py.PETSc.ScalarType)\n",
    "        facets_left = boundaries.indices[boundaries.values == 6]\n",
    "        bdofs_V_left = dolfinx.fem.locate_dofs_topological(V, mesh.topology.dim - 1, facets_left)\n",
    "        bcs = [dolfinx.fem.dirichletbc(zero_vector, bdofs_V_left, V)]\n",
    "        self._bcs = bcs\n",
    "\n",
    "    @staticmethod\n",
    "    def _elasticity(u: ufl.Argument, v: ufl.Argument) -> ufl.core.expr.Expr:\n",
    "        \"\"\"Compute the elasticity bilinear form.\"\"\"\n",
    "        E = 1.0\n",
    "        nu = 0.3\n",
    "        lambda_1 = E * nu / ((1.0 + nu) * (1.0 - 2.0 * nu))\n",
    "        lambda_2 = E / (2.0 * (1.0 + nu))\n",
    "        return (\n",
    "            2.0 * lambda_2 * ufl.inner(ufl.sym(ufl.grad(u)), ufl.sym(ufl.grad(v)))\n",
    "            + lambda_1 * ufl.inner(ufl.tr(ufl.sym(ufl.grad(u))), ufl.tr(ufl.sym(ufl.grad(v)))))\n",
    "\n",
    "    @property\n",
    "    def function_space(self) -> dolfinx.fem.FunctionSpace:\n",
    "        \"\"\"Return the function space of the problem.\"\"\"\n",
    "        return self._V\n",
    "\n",
    "    @property\n",
    "    def bilinear_form(self) -> ufl.Form:\n",
    "        \"\"\"Return the bilinear form of the problem.\"\"\"\n",
    "        return self._a\n",
    "\n",
    "    @property\n",
    "    def linear_form(self) -> ufl.Form:\n",
    "        \"\"\"Return the linear form of the problem.\"\"\"\n",
    "        return self._f\n",
    "\n",
    "    @property\n",
    "    def boundary_conditions(self) -> typing.List[dolfinx.fem.DirichletBCMetaClass]:\n",
    "        \"\"\"Return the boundary conditions for the problem.\"\"\"\n",
    "        return self._bcs\n",
    "\n",
    "    def _assemble_matrix(self) -> petsc4py.PETSc.Mat:\n",
    "        \"\"\"Assemble the left-hand side matrix.\"\"\"\n",
    "        A = dolfinx.fem.petsc.assemble_matrix(self._a_cpp, bcs=self._bcs)\n",
    "        A.assemble()\n",
    "        return A\n",
    "\n",
    "    def _assemble_vector(self) -> petsc4py.PETSc.Vec:\n",
    "        \"\"\"Assemble the right-hand side vector.\"\"\"\n",
    "        F = dolfinx.fem.petsc.assemble_vector(self._f_cpp)\n",
    "        F.ghostUpdate(addv=petsc4py.PETSc.InsertMode.ADD, mode=petsc4py.PETSc.ScatterMode.REVERSE)\n",
    "        dolfinx.fem.petsc.set_bc(F, self._bcs)\n",
    "        return F\n",
    "\n",
    "    def solve(self, mu: np.typing.NDArray[np.float64]) -> dolfinx.fem.Function:\n",
    "        \"\"\"Assign the provided parameters value and solve the problem.\"\"\"\n",
    "        self._mu_symb.value[:] = mu\n",
    "        return self._solve()\n",
    "\n",
    "    def _solve(self) -> dolfinx.fem.Function:\n",
    "        \"\"\"Solve the linear problem with KSP.\"\"\"\n",
    "        A = self._assemble_matrix()\n",
    "        F = self._assemble_vector()\n",
    "        ksp = petsc4py.PETSc.KSP()\n",
    "        ksp.create(mesh.comm)\n",
    "        ksp.setOperators(A)\n",
    "        ksp.setType(\"preonly\")\n",
    "        ksp.getPC().setType(\"lu\")\n",
    "        ksp.getPC().setFactorSolverType(\"mumps\")\n",
    "        ksp.setFromOptions()\n",
    "        solution = dolfinx.fem.Function(self._V)\n",
    "        ksp.solve(F, solution.vector)\n",
    "        solution.vector.ghostUpdate(\n",
    "            addv=petsc4py.PETSc.InsertMode.INSERT, mode=petsc4py.PETSc.ScatterMode.FORWARD)\n",
    "        return solution"
   ]
  },
  {
   "cell_type": "code",
   "execution_count": null,
   "id": "a09efaab",
   "metadata": {},
   "outputs": [],
   "source": [
    "problem = Problem()"
   ]
  },
  {
   "cell_type": "code",
   "execution_count": null,
   "id": "47085bbf",
   "metadata": {},
   "outputs": [],
   "source": [
    "mu_solve = np.hstack((np.ones(8), np.array([1.0, -1.0, -1.0])))\n",
    "solution = problem.solve(mu_solve)"
   ]
  },
  {
   "cell_type": "code",
   "execution_count": null,
   "id": "d83c70f9",
   "metadata": {},
   "outputs": [],
   "source": [
    "multiphenicsx.io.plot_vector_field(solution, \"high fidelity solution\")"
   ]
  }
 ],
 "metadata": {
  "kernelspec": {
   "display_name": "Python 3 (ipykernel)",
   "language": "python",
   "name": "python3"
  },
  "language_info": {
   "codemirror_mode": {
    "name": "ipython"
   },
   "file_extension": ".py",
   "mimetype": "text/x-python",
   "name": "python",
   "nbconvert_exporter": "python"
  }
 },
 "nbformat": 4,
 "nbformat_minor": 5
}
