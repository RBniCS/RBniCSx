{
 "cells": [
  {
   "cell_type": "markdown",
   "id": "3946e291",
   "metadata": {},
   "source": [
    "# Tutorial 17 - Navier-Stokes"
   ]
  },
  {
   "cell_type": "code",
   "execution_count": null,
   "id": "258b34bb",
   "metadata": {},
   "outputs": [],
   "source": [
    "import typing"
   ]
  },
  {
   "cell_type": "code",
   "execution_count": null,
   "id": "77091a8e",
   "metadata": {},
   "outputs": [],
   "source": [
    "import dolfinx.fem\n",
    "import dolfinx.fem.petsc\n",
    "import dolfinx.io\n",
    "import gmsh\n",
    "import mpi4py.MPI\n",
    "import multiphenicsx.fem.petsc\n",
    "import numpy as np\n",
    "import numpy.typing\n",
    "import petsc4py.PETSc\n",
    "import ufl\n",
    "import viskex"
   ]
  },
  {
   "cell_type": "code",
   "execution_count": null,
   "id": "dca12fe7",
   "metadata": {},
   "outputs": [],
   "source": [
    "# import rbnicsx.backends"
   ]
  },
  {
   "cell_type": "markdown",
   "id": "eb7b36dd",
   "metadata": {},
   "source": [
    "## 1. Mesh generation"
   ]
  },
  {
   "cell_type": "code",
   "execution_count": null,
   "id": "592b9efe",
   "metadata": {},
   "outputs": [],
   "source": [
    "pre_step_length = 4.0\n",
    "after_step_length = 14.0\n",
    "pre_step_height = 3.0\n",
    "after_step_height = 5.0\n",
    "mesh_size = 2e-1"
   ]
  },
  {
   "cell_type": "code",
   "execution_count": null,
   "id": "aaec3a01",
   "metadata": {},
   "outputs": [],
   "source": [
    "gmsh.initialize()\n",
    "gmsh.model.add(\"navier_stokes\")"
   ]
  },
  {
   "cell_type": "code",
   "execution_count": null,
   "id": "e9a3b753",
   "metadata": {},
   "outputs": [],
   "source": [
    "p0 = gmsh.model.geo.addPoint(0.0, after_step_height - pre_step_height, 0.0, mesh_size)\n",
    "p1 = gmsh.model.geo.addPoint(pre_step_length, after_step_height - pre_step_height, 0.0, mesh_size)\n",
    "p2 = gmsh.model.geo.addPoint(pre_step_length, 0.0, 0.0, mesh_size)\n",
    "p3 = gmsh.model.geo.addPoint(pre_step_length + after_step_length, 0.0, 0.0, mesh_size)\n",
    "p4 = gmsh.model.geo.addPoint(pre_step_length + after_step_length, after_step_height, 0.0, mesh_size)\n",
    "p5 = gmsh.model.geo.addPoint(0.0, after_step_height, 0.0, mesh_size)\n",
    "l0 = gmsh.model.geo.addLine(p0, p1)\n",
    "l1 = gmsh.model.geo.addLine(p1, p2)\n",
    "l2 = gmsh.model.geo.addLine(p2, p3)\n",
    "l3 = gmsh.model.geo.addLine(p3, p4)\n",
    "l4 = gmsh.model.geo.addLine(p4, p5)\n",
    "l5 = gmsh.model.geo.addLine(p5, p0)\n",
    "boundary = gmsh.model.geo.addCurveLoop([l0, l1, l2, l3, l4, l5])\n",
    "domain = gmsh.model.geo.addPlaneSurface([boundary])"
   ]
  },
  {
   "cell_type": "code",
   "execution_count": null,
   "id": "3f8d3454",
   "metadata": {},
   "outputs": [],
   "source": [
    "gmsh.model.geo.synchronize()\n",
    "gmsh.model.addPhysicalGroup(1, [l5], 1)\n",
    "gmsh.model.addPhysicalGroup(1, [l0, l1, l2, l4], 2)\n",
    "gmsh.model.addPhysicalGroup(2, [domain], 1)\n",
    "gmsh.model.mesh.generate(2)"
   ]
  },
  {
   "cell_type": "code",
   "execution_count": null,
   "id": "5d1c2098",
   "metadata": {},
   "outputs": [],
   "source": [
    "mesh, subdomains, boundaries = dolfinx.io.gmshio.model_to_mesh(\n",
    "    gmsh.model, comm=mpi4py.MPI.COMM_WORLD, rank=0, gdim=2)\n",
    "gmsh.finalize()"
   ]
  },
  {
   "cell_type": "code",
   "execution_count": null,
   "id": "1809ab0a",
   "metadata": {},
   "outputs": [],
   "source": [
    "viskex.dolfinx.plot_mesh(mesh)"
   ]
  },
  {
   "cell_type": "code",
   "execution_count": null,
   "id": "b9cef226",
   "metadata": {},
   "outputs": [],
   "source": [
    "viskex.dolfinx.plot_mesh_tags(mesh, subdomains, \"subdomains\")"
   ]
  },
  {
   "cell_type": "code",
   "execution_count": null,
   "id": "7c039b83",
   "metadata": {},
   "outputs": [],
   "source": [
    "viskex.dolfinx.plot_mesh_tags(mesh, boundaries, \"boundaries\")"
   ]
  },
  {
   "cell_type": "markdown",
   "id": "a595ddf8",
   "metadata": {},
   "source": [
    "## 2. Problem definition"
   ]
  },
  {
   "cell_type": "code",
   "execution_count": null,
   "id": "79711cd7",
   "metadata": {},
   "outputs": [],
   "source": [
    "class Problem(object):\n",
    "    \"\"\"Define a nonlinear problem, and solve it with SNES.\"\"\"\n",
    "\n",
    "    def __init__(self) -> None:\n",
    "        # Define function space\n",
    "        V = dolfinx.fem.functionspace(mesh, (\"Lagrange\", 2, (mesh.geometry.dim, )))\n",
    "        Q = dolfinx.fem.functionspace(mesh, (\"Lagrange\", 1))\n",
    "        self._VQ = (V, Q)\n",
    "        # Define trial and test functions\n",
    "        (v, q) = (ufl.TestFunction(V), ufl.TestFunction(Q))\n",
    "        (du, dp) = (ufl.TrialFunction(V), ufl.TrialFunction(Q))\n",
    "        # Define solution components\n",
    "        (u, p) = (dolfinx.fem.Function(V), dolfinx.fem.Function(Q))\n",
    "        self._solutions = (u, p)\n",
    "        # Define residual block form of the problem\n",
    "        residual = [\n",
    "            (\n",
    "                ufl.inner(ufl.grad(u), ufl.grad(v)) * ufl.dx + ufl.inner(ufl.grad(u) * u, v) * ufl.dx\n",
    "                - ufl.inner(p, ufl.div(v)) * ufl.dx\n",
    "            ),\n",
    "            ufl.inner(ufl.div(u), q) * ufl.dx\n",
    "        ]\n",
    "        self._residual = residual\n",
    "        self._residual_cpp = dolfinx.fem.form(residual)\n",
    "        # Define jacobian block form of the problem\n",
    "        jacobian = [\n",
    "            [ufl.derivative(residual[0], u, du), ufl.derivative(residual[0], p, dp)],\n",
    "            [ufl.derivative(residual[1], u, du), ufl.derivative(residual[1], p, dp)]\n",
    "        ]\n",
    "        self._jacobian = jacobian\n",
    "        self._jacobian_cpp = dolfinx.fem.form(jacobian)\n",
    "        # Define boundary conditions for the problem\n",
    "        u_in = dolfinx.fem.Function(V)\n",
    "        u_wall = dolfinx.fem.Function(V)\n",
    "        facets_in = boundaries.indices[boundaries.values == 1]\n",
    "        facets_wall = boundaries.indices[boundaries.values == 2]\n",
    "        bdofs_V_in = dolfinx.fem.locate_dofs_topological(V, mesh.topology.dim - 1, facets_in)\n",
    "        bdofs_V_wall = dolfinx.fem.locate_dofs_topological(V, mesh.topology.dim - 1, facets_wall)\n",
    "        bc_in = dolfinx.fem.dirichletbc(u_in, bdofs_V_in)\n",
    "        bc_wall = dolfinx.fem.dirichletbc(u_wall, bdofs_V_wall)\n",
    "        bcs = [bc_in, bc_wall]\n",
    "        self._u_in = u_in\n",
    "        self._bcs = bcs\n",
    "\n",
    "    @property\n",
    "    def function_spaces(self) -> typing.Tuple[\n",
    "        dolfinx.fem.FunctionSpace, dolfinx.fem.FunctionSpace\n",
    "    ]:\n",
    "        \"\"\"Return the function spaces of the problem.\"\"\"\n",
    "        return self._VQ\n",
    "\n",
    "    @property\n",
    "    def solution(self) -> typing.Tuple[dolfinx.fem.Function, dolfinx.fem.Function]:\n",
    "        \"\"\"Return the components of the solution of the problem for the latest parameter value.\"\"\"\n",
    "        return self._solutions\n",
    "\n",
    "    @property\n",
    "    def residual_form(self) -> typing.List[ufl.Form]:  # type: ignore[no-any-unimported]\n",
    "        \"\"\"Return the residual block form of the problem.\"\"\"\n",
    "        return self._residual\n",
    "\n",
    "    @property\n",
    "    def jacobian_form(self) -> typing.List[typing.List[ufl.Form]]:  # type: ignore[no-any-unimported]\n",
    "        \"\"\"Return the jacobian block form of the problem.\"\"\"\n",
    "        return self._jacobian\n",
    "\n",
    "    @property\n",
    "    def boundary_conditions(self) -> typing.List[dolfinx.fem.DirichletBC]:\n",
    "        \"\"\"Return the boundary conditions for the problem.\"\"\"\n",
    "        return self._bcs\n",
    "\n",
    "    def create_snes_solution(self) -> petsc4py.PETSc.Vec:  # type: ignore[no-any-unimported]\n",
    "        \"\"\"\n",
    "        Create a petsc4py.PETSc.Vec to be passed to petsc4py.PETSc.SNES.solve.\n",
    "\n",
    "        The returned vector will be initialized with the initial guesses provided in `self._solutions`,\n",
    "        properly stacked together in a single block vector.\n",
    "        \"\"\"\n",
    "        x = dolfinx.fem.petsc.create_vector_block(self._residual_cpp)\n",
    "        with multiphenicsx.fem.petsc.BlockVecSubVectorWrapper(x, [self._VQ[0].dofmap, self._VQ[1].dofmap]) as x_wrapper:\n",
    "            for x_wrapper_local, sub_solution in zip(x_wrapper, self._solutions):\n",
    "                with sub_solution.vector.localForm() as sub_solution_local:\n",
    "                    x_wrapper_local[:] = sub_solution_local\n",
    "        return x\n",
    "\n",
    "    def update_solutions(self, x: petsc4py.PETSc.Vec) -> None:  # type: ignore[no-any-unimported]\n",
    "        \"\"\"Update `self._solutions` with data in `x`.\"\"\"\n",
    "        x.ghostUpdate(addv=petsc4py.PETSc.InsertMode.INSERT, mode=petsc4py.PETSc.ScatterMode.FORWARD)\n",
    "        with multiphenicsx.fem.petsc.BlockVecSubVectorWrapper(x, [self._VQ[0].dofmap, self._VQ[1].dofmap]) as x_wrapper:\n",
    "            for x_wrapper_local, sub_solution in zip(x_wrapper, self._solutions):\n",
    "                with sub_solution.vector.localForm() as sub_solution_local:\n",
    "                    sub_solution_local[:] = x_wrapper_local\n",
    "\n",
    "    def _assemble_residual(  # type: ignore[no-any-unimported]\n",
    "        self, snes: petsc4py.PETSc.SNES, x: petsc4py.PETSc.Vec, residual_vec: petsc4py.PETSc.Vec\n",
    "    ) -> None:\n",
    "        \"\"\"Assemble the residual.\"\"\"\n",
    "        self.update_solutions(x)\n",
    "        with residual_vec.localForm() as residual_vec_local:\n",
    "            residual_vec_local.set(0.0)\n",
    "        dolfinx.fem.petsc.assemble_vector_block(  # type: ignore[misc]\n",
    "            residual_vec, self._residual_cpp, self._jacobian_cpp, self._bcs, x0=x, scale=-1.0)\n",
    "\n",
    "    def _assemble_jacobian(  # type: ignore[no-any-unimported]\n",
    "        self, snes: petsc4py.PETSc.SNES, x: petsc4py.PETSc.Vec, jacobian_mat: petsc4py.PETSc.Mat,\n",
    "        preconditioner_mat: petsc4py.PETSc.Mat\n",
    "    ) -> None:\n",
    "        \"\"\"Assemble the jacobian.\"\"\"\n",
    "        jacobian_mat.zeroEntries()\n",
    "        dolfinx.fem.petsc.assemble_matrix_block(  # type: ignore[misc]\n",
    "            jacobian_mat, self._jacobian_cpp, self._bcs, diagonal=1.0)  # type: ignore[arg-type]\n",
    "        jacobian_mat.assemble()\n",
    "\n",
    "    def solve(self, mu: np.typing.NDArray[np.float64]) -> typing.Tuple[\n",
    "            dolfinx.fem.Function, dolfinx.fem.Function]:\n",
    "        \"\"\"Assign the provided parameter value to boundary conditions and solve the problem.\"\"\"\n",
    "        self._u_in.interpolate(lambda x: (mu[0] * 1 / 2.25 * (x[1] - 2) * (5 - x[1]), 0 * x[0]))\n",
    "        return self._solve()\n",
    "\n",
    "    def _solve(self) -> typing.Tuple[dolfinx.fem.Function, dolfinx.fem.Function]:\n",
    "        \"\"\"Solve the nonlinear problem with SNES.\"\"\"\n",
    "        snes = petsc4py.PETSc.SNES().create(mesh.comm)\n",
    "        snes.setTolerances(max_it=20)\n",
    "        snes.getKSP().setType(\"preonly\")\n",
    "        snes.getKSP().getPC().setType(\"lu\")\n",
    "        snes.getKSP().getPC().setFactorSolverType(\"mumps\")\n",
    "        residual_vec = dolfinx.fem.petsc.create_vector_block(self._residual_cpp)\n",
    "        snes.setFunction(self._assemble_residual, residual_vec)\n",
    "        jacobian_mat = dolfinx.fem.petsc.create_matrix_block(self._jacobian_cpp)\n",
    "        snes.setJacobian(self._assemble_jacobian, J=jacobian_mat, P=None)\n",
    "        snes.setMonitor(lambda _, it, residual: print(it, residual))\n",
    "        solution = self.create_snes_solution()\n",
    "        snes.solve(None, solution)\n",
    "        self.update_solutions(solution)\n",
    "        residual_vec.destroy()\n",
    "        jacobian_mat.destroy()\n",
    "        solution.destroy()\n",
    "        snes.destroy()\n",
    "        return self._solutions"
   ]
  },
  {
   "cell_type": "code",
   "execution_count": null,
   "id": "3086824f",
   "metadata": {},
   "outputs": [],
   "source": [
    "problem = Problem()"
   ]
  },
  {
   "cell_type": "code",
   "execution_count": null,
   "id": "7b8bb60f",
   "metadata": {},
   "outputs": [],
   "source": [
    "mu_solve = np.array([80.0])\n",
    "(solution_u, solution_p) = problem.solve(mu_solve)"
   ]
  },
  {
   "cell_type": "code",
   "execution_count": null,
   "id": "6cb988ed",
   "metadata": {},
   "outputs": [],
   "source": [
    "viskex.dolfinx.plot_vector_field(solution_u, \"high fidelity velocity\", glyph_factor=1e-2)"
   ]
  },
  {
   "cell_type": "code",
   "execution_count": null,
   "id": "10da8f43",
   "metadata": {},
   "outputs": [],
   "source": [
    "viskex.dolfinx.plot_scalar_field(solution_p, \"high fidelity pressure\")"
   ]
  }
 ],
 "metadata": {
  "kernelspec": {
   "display_name": "Python 3 (ipykernel)",
   "language": "python",
   "name": "python3"
  },
  "language_info": {
   "codemirror_mode": {
    "name": "ipython"
   },
   "file_extension": ".py",
   "mimetype": "text/x-python",
   "name": "python",
   "nbconvert_exporter": "python"
  }
 },
 "nbformat": 4,
 "nbformat_minor": 5
}
