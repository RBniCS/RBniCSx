{
 "cells": [
  {
   "cell_type": "markdown",
   "id": "3946e291",
   "metadata": {},
   "source": [
    "# Tutorial 17 - Navier-Stokes"
   ]
  },
  {
   "cell_type": "code",
   "execution_count": null,
   "id": "77091a8e",
   "metadata": {},
   "outputs": [],
   "source": [
    "import gmsh\n",
    "import multiphenicsx.io\n",
    "import multiphenicsx.mesh"
   ]
  },
  {
   "cell_type": "markdown",
   "id": "eb7b36dd",
   "metadata": {},
   "source": [
    "## 1. Mesh generation"
   ]
  },
  {
   "cell_type": "code",
   "execution_count": null,
   "id": "592b9efe",
   "metadata": {},
   "outputs": [],
   "source": [
    "pre_step_length = 4.0\n",
    "after_step_length = 14.0\n",
    "pre_step_height = 3.0\n",
    "after_step_height = 5.0\n",
    "mesh_size = 2e-1"
   ]
  },
  {
   "cell_type": "code",
   "execution_count": null,
   "id": "aaec3a01",
   "metadata": {},
   "outputs": [],
   "source": [
    "gmsh.initialize()\n",
    "gmsh.model.add(\"navier_stokes\")"
   ]
  },
  {
   "cell_type": "code",
   "execution_count": null,
   "id": "e9a3b753",
   "metadata": {},
   "outputs": [],
   "source": [
    "p0 = gmsh.model.geo.addPoint(0.0, after_step_height - pre_step_height, 0.0, mesh_size)\n",
    "p1 = gmsh.model.geo.addPoint(pre_step_length, after_step_height - pre_step_height, 0.0, mesh_size)\n",
    "p2 = gmsh.model.geo.addPoint(pre_step_length, 0.0, 0.0, mesh_size)\n",
    "p3 = gmsh.model.geo.addPoint(pre_step_length + after_step_length, 0.0, 0.0, mesh_size)\n",
    "p4 = gmsh.model.geo.addPoint(pre_step_length + after_step_length, after_step_height, 0.0, mesh_size)\n",
    "p5 = gmsh.model.geo.addPoint(0.0, after_step_height, 0.0, mesh_size)\n",
    "l0 = gmsh.model.geo.addLine(p0, p1)\n",
    "l1 = gmsh.model.geo.addLine(p1, p2)\n",
    "l2 = gmsh.model.geo.addLine(p2, p3)\n",
    "l3 = gmsh.model.geo.addLine(p3, p4)\n",
    "l4 = gmsh.model.geo.addLine(p4, p5)\n",
    "l5 = gmsh.model.geo.addLine(p5, p0)\n",
    "boundary = gmsh.model.geo.addCurveLoop([l0, l1, l2, l3, l4, l5])\n",
    "domain = gmsh.model.geo.addPlaneSurface([boundary])"
   ]
  },
  {
   "cell_type": "code",
   "execution_count": null,
   "id": "3f8d3454",
   "metadata": {},
   "outputs": [],
   "source": [
    "gmsh.model.geo.synchronize()\n",
    "gmsh.model.addPhysicalGroup(1, [l5], 1)\n",
    "gmsh.model.addPhysicalGroup(1, [l0, l1, l2, l4], 2)\n",
    "gmsh.model.addPhysicalGroup(2, [domain], 1)\n",
    "gmsh.model.mesh.generate(2)"
   ]
  },
  {
   "cell_type": "code",
   "execution_count": null,
   "id": "5d1c2098",
   "metadata": {},
   "outputs": [],
   "source": [
    "mesh, subdomains, boundaries = multiphenicsx.mesh.gmsh_to_fenicsx(gmsh.model, gdim=2)\n",
    "gmsh.finalize()"
   ]
  },
  {
   "cell_type": "code",
   "execution_count": null,
   "id": "1809ab0a",
   "metadata": {},
   "outputs": [],
   "source": [
    "multiphenicsx.io.plot_mesh(mesh)"
   ]
  },
  {
   "cell_type": "code",
   "execution_count": null,
   "id": "b9cef226",
   "metadata": {},
   "outputs": [],
   "source": [
    "multiphenicsx.io.plot_mesh_tags(subdomains)"
   ]
  },
  {
   "cell_type": "code",
   "execution_count": null,
   "id": "7c039b83",
   "metadata": {},
   "outputs": [],
   "source": [
    "multiphenicsx.io.plot_mesh_tags(boundaries)"
   ]
  }
 ],
 "metadata": {
  "kernelspec": {
   "display_name": "Python 3 (ipykernel)",
   "language": "python",
   "name": "python3"
  },
  "language_info": {
   "codemirror_mode": {
    "name": "ipython"
   },
   "file_extension": ".py",
   "mimetype": "text/x-python",
   "name": "python",
   "nbconvert_exporter": "python"
  }
 },
 "nbformat": 4,
 "nbformat_minor": 5
}
