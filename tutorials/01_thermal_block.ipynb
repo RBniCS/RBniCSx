{
 "cells": [
  {
   "cell_type": "markdown",
   "id": "a63d095e",
   "metadata": {},
   "source": [
    "# Tutorial 01 - Thermal Block"
   ]
  },
  {
   "cell_type": "code",
   "execution_count": null,
   "id": "2dc95f45",
   "metadata": {},
   "outputs": [],
   "source": [
    "import gmsh"
   ]
  },
  {
   "cell_type": "code",
   "execution_count": null,
   "id": "a0a9b818",
   "metadata": {},
   "outputs": [],
   "source": [
    "import minirox.io\n",
    "import minirox.mesh"
   ]
  },
  {
   "cell_type": "markdown",
   "id": "0cc404e0",
   "metadata": {},
   "source": [
    "## 1. Mesh generation"
   ]
  },
  {
   "cell_type": "code",
   "execution_count": null,
   "id": "a2ccd835",
   "metadata": {},
   "outputs": [],
   "source": [
    "mesh_size = 1e-1"
   ]
  },
  {
   "cell_type": "code",
   "execution_count": null,
   "id": "b42c251a",
   "metadata": {},
   "outputs": [],
   "source": [
    "gmsh.initialize()\n",
    "gmsh.model.add(\"thermal_block\")"
   ]
  },
  {
   "cell_type": "code",
   "execution_count": null,
   "id": "a0455142",
   "metadata": {},
   "outputs": [],
   "source": [
    "p0 = gmsh.model.geo.addPoint(-1.0, -1.0, 0.0, mesh_size)\n",
    "p1 = gmsh.model.geo.addPoint(1.0, -1.0, 0.0, mesh_size)\n",
    "p2 = gmsh.model.geo.addPoint(1.0, 1.0, 0.0, mesh_size)\n",
    "p3 = gmsh.model.geo.addPoint(-1.0, 1.0, 0.0, mesh_size)\n",
    "l0 = gmsh.model.geo.addLine(p0, p1)\n",
    "l1 = gmsh.model.geo.addLine(p1, p2)\n",
    "l2 = gmsh.model.geo.addLine(p2, p3)\n",
    "l3 = gmsh.model.geo.addLine(p3, p0)\n",
    "outer_boundary = gmsh.model.geo.addCurveLoop([l0, l1, l2, l3])"
   ]
  },
  {
   "cell_type": "code",
   "execution_count": null,
   "id": "6686ec20",
   "metadata": {},
   "outputs": [],
   "source": [
    "p4 = gmsh.model.geo.addPoint(0.0, 0.0, 0.0, mesh_size)\n",
    "p5 = gmsh.model.geo.addPoint(0.5, 0.0, 0.0, mesh_size)\n",
    "p6 = gmsh.model.geo.addPoint(-0.5, 0.0, 0.0, mesh_size)\n",
    "c0 = gmsh.model.geo.addCircleArc(p5, p4, p6)\n",
    "c1 = gmsh.model.geo.addCircleArc(p6, p4, p5)\n",
    "interface = gmsh.model.geo.addCurveLoop([c0, c1])"
   ]
  },
  {
   "cell_type": "code",
   "execution_count": null,
   "id": "19c003e3",
   "metadata": {},
   "outputs": [],
   "source": [
    "outer_subdomain = gmsh.model.geo.addPlaneSurface([outer_boundary, interface])\n",
    "inner_subdomain = gmsh.model.geo.addPlaneSurface([interface])"
   ]
  },
  {
   "cell_type": "code",
   "execution_count": null,
   "id": "b70b337c",
   "metadata": {},
   "outputs": [],
   "source": [
    "gmsh.model.geo.synchronize()\n",
    "gmsh.model.addPhysicalGroup(1, [l0], 1)\n",
    "gmsh.model.addPhysicalGroup(1, [l1, l3], 2)\n",
    "gmsh.model.addPhysicalGroup(1, [l2], 3)\n",
    "gmsh.model.addPhysicalGroup(2, [inner_subdomain], 1)\n",
    "gmsh.model.addPhysicalGroup(2, [outer_subdomain], 2)\n",
    "gmsh.model.mesh.generate(2)"
   ]
  },
  {
   "cell_type": "code",
   "execution_count": null,
   "id": "f9e9f916",
   "metadata": {},
   "outputs": [],
   "source": [
    "mesh, subdomains, boundaries = minirox.mesh.gmsh_to_fenicsx(gmsh.model, gdim=2)\n",
    "gmsh.finalize()"
   ]
  },
  {
   "cell_type": "code",
   "execution_count": null,
   "id": "24c579cb",
   "metadata": {},
   "outputs": [],
   "source": [
    "minirox.io.plot_mesh(mesh)"
   ]
  },
  {
   "cell_type": "code",
   "execution_count": null,
   "id": "2f04b720",
   "metadata": {},
   "outputs": [],
   "source": [
    "minirox.io.plot_mesh_tags(subdomains)"
   ]
  },
  {
   "cell_type": "code",
   "execution_count": null,
   "id": "1401be6d",
   "metadata": {},
   "outputs": [],
   "source": [
    "minirox.io.plot_mesh_tags(boundaries)"
   ]
  }
 ],
 "metadata": {
  "kernelspec": {
   "display_name": "Python 3 (ipykernel)",
   "language": "python",
   "name": "python3"
  },
  "language_info": {
   "codemirror_mode": {
    "name": "ipython"
   },
   "file_extension": ".py",
   "mimetype": "text/x-python",
   "name": "python",
   "nbconvert_exporter": "python"
  }
 },
 "nbformat": 4,
 "nbformat_minor": 5
}
