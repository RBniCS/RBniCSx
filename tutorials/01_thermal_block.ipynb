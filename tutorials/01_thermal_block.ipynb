{
 "cells": [
  {
   "cell_type": "markdown",
   "id": "a63d095e",
   "metadata": {},
   "source": [
    "# Tutorial 01 - Thermal Block"
   ]
  },
  {
   "cell_type": "code",
   "execution_count": null,
   "id": "5bfbaccb",
   "metadata": {},
   "outputs": [],
   "source": [
    "import typing"
   ]
  },
  {
   "cell_type": "code",
   "execution_count": null,
   "id": "2dc95f45",
   "metadata": {},
   "outputs": [],
   "source": [
    "import dolfinx.fem\n",
    "import gmsh\n",
    "import multiphenicsx.io\n",
    "import multiphenicsx.mesh\n",
    "import numpy as np\n",
    "import petsc4py\n",
    "import ufl"
   ]
  },
  {
   "cell_type": "code",
   "execution_count": null,
   "id": "8d6a3ffd",
   "metadata": {},
   "outputs": [],
   "source": [
    "import rbnicsx.backends"
   ]
  },
  {
   "cell_type": "markdown",
   "id": "0cc404e0",
   "metadata": {},
   "source": [
    "## 1. Mesh generation"
   ]
  },
  {
   "cell_type": "code",
   "execution_count": null,
   "id": "a2ccd835",
   "metadata": {},
   "outputs": [],
   "source": [
    "mesh_size = 1e-1"
   ]
  },
  {
   "cell_type": "code",
   "execution_count": null,
   "id": "b42c251a",
   "metadata": {},
   "outputs": [],
   "source": [
    "gmsh.initialize()\n",
    "gmsh.model.add(\"thermal_block\")"
   ]
  },
  {
   "cell_type": "code",
   "execution_count": null,
   "id": "a0455142",
   "metadata": {},
   "outputs": [],
   "source": [
    "p0 = gmsh.model.geo.addPoint(-1.0, -1.0, 0.0, mesh_size)\n",
    "p1 = gmsh.model.geo.addPoint(1.0, -1.0, 0.0, mesh_size)\n",
    "p2 = gmsh.model.geo.addPoint(1.0, 1.0, 0.0, mesh_size)\n",
    "p3 = gmsh.model.geo.addPoint(-1.0, 1.0, 0.0, mesh_size)\n",
    "l0 = gmsh.model.geo.addLine(p0, p1)\n",
    "l1 = gmsh.model.geo.addLine(p1, p2)\n",
    "l2 = gmsh.model.geo.addLine(p2, p3)\n",
    "l3 = gmsh.model.geo.addLine(p3, p0)\n",
    "outer_boundary = gmsh.model.geo.addCurveLoop([l0, l1, l2, l3])"
   ]
  },
  {
   "cell_type": "code",
   "execution_count": null,
   "id": "6686ec20",
   "metadata": {},
   "outputs": [],
   "source": [
    "p4 = gmsh.model.geo.addPoint(0.0, 0.0, 0.0, mesh_size)\n",
    "p5 = gmsh.model.geo.addPoint(0.5, 0.0, 0.0, mesh_size)\n",
    "p6 = gmsh.model.geo.addPoint(-0.5, 0.0, 0.0, mesh_size)\n",
    "c0 = gmsh.model.geo.addCircleArc(p5, p4, p6)\n",
    "c1 = gmsh.model.geo.addCircleArc(p6, p4, p5)\n",
    "interface = gmsh.model.geo.addCurveLoop([c0, c1])"
   ]
  },
  {
   "cell_type": "code",
   "execution_count": null,
   "id": "19c003e3",
   "metadata": {},
   "outputs": [],
   "source": [
    "outer_subdomain = gmsh.model.geo.addPlaneSurface([outer_boundary, interface])\n",
    "inner_subdomain = gmsh.model.geo.addPlaneSurface([interface])"
   ]
  },
  {
   "cell_type": "code",
   "execution_count": null,
   "id": "b70b337c",
   "metadata": {},
   "outputs": [],
   "source": [
    "gmsh.model.geo.synchronize()\n",
    "gmsh.model.addPhysicalGroup(1, [l0], 1)\n",
    "gmsh.model.addPhysicalGroup(1, [l1, l3], 2)\n",
    "gmsh.model.addPhysicalGroup(1, [l2], 3)\n",
    "gmsh.model.addPhysicalGroup(2, [inner_subdomain], 1)\n",
    "gmsh.model.addPhysicalGroup(2, [outer_subdomain], 2)\n",
    "gmsh.model.mesh.generate(2)"
   ]
  },
  {
   "cell_type": "code",
   "execution_count": null,
   "id": "f9e9f916",
   "metadata": {},
   "outputs": [],
   "source": [
    "mesh, subdomains, boundaries = multiphenicsx.mesh.gmsh_to_fenicsx(gmsh.model, gdim=2)\n",
    "gmsh.finalize()"
   ]
  },
  {
   "cell_type": "code",
   "execution_count": null,
   "id": "24c579cb",
   "metadata": {},
   "outputs": [],
   "source": [
    "multiphenicsx.io.plot_mesh(mesh)"
   ]
  },
  {
   "cell_type": "code",
   "execution_count": null,
   "id": "2f04b720",
   "metadata": {},
   "outputs": [],
   "source": [
    "multiphenicsx.io.plot_mesh_tags(subdomains)"
   ]
  },
  {
   "cell_type": "code",
   "execution_count": null,
   "id": "1401be6d",
   "metadata": {},
   "outputs": [],
   "source": [
    "multiphenicsx.io.plot_mesh_tags(boundaries)"
   ]
  },
  {
   "cell_type": "markdown",
   "id": "d890ba0d",
   "metadata": {},
   "source": [
    "## 2. Problem definition"
   ]
  },
  {
   "cell_type": "code",
   "execution_count": null,
   "id": "0775c061",
   "metadata": {},
   "outputs": [],
   "source": [
    "class Problem(object):\n",
    "    \"\"\"Define a linear problem, and solve it with KSP.\"\"\"\n",
    "\n",
    "    def __init__(self) -> None:\n",
    "        # Define function space\n",
    "        V = dolfinx.fem.FunctionSpace(mesh, (\"Lagrange\", 1))\n",
    "        self._V = V\n",
    "        # Define trial and test functions\n",
    "        u = ufl.TrialFunction(V)\n",
    "        v = ufl.TestFunction(V)\n",
    "        # Define measures for integration of forms\n",
    "        dx = ufl.Measure(\"dx\")(subdomain_data=subdomains)\n",
    "        ds = ufl.Measure(\"ds\")(subdomain_data=boundaries)\n",
    "        # Define symbolic parameters for use in UFL forms\n",
    "        mu_symb = rbnicsx.backends.SymbolicParameters(mesh, shape=(2, ))\n",
    "        self._mu_symb = mu_symb\n",
    "        # Define bilinear form of the problem\n",
    "        a = mu_symb[0] * ufl.inner(ufl.grad(u), ufl.grad(v)) * dx(1) + ufl.inner(ufl.grad(u), ufl.grad(v)) * dx(2)\n",
    "        self._a = a\n",
    "        self._a_cpp = dolfinx.fem.form(a)\n",
    "        # Define linear form of the problem\n",
    "        f = ufl.inner(mu_symb[1], v) * ds(1)\n",
    "        self._f = f\n",
    "        self._f_cpp = dolfinx.fem.form(f)\n",
    "        # Define boundary conditions for the problem\n",
    "        zero = petsc4py.PETSc.ScalarType(0)\n",
    "        facets_top = boundaries.indices[boundaries.values == 3]\n",
    "        bdofs_V_top = dolfinx.fem.locate_dofs_topological(V, mesh.topology.dim - 1, facets_top)\n",
    "        bcs = [dolfinx.fem.dirichletbc(zero, bdofs_V_top, V)]\n",
    "        self._bcs = bcs\n",
    "\n",
    "    @property\n",
    "    def function_space(self) -> dolfinx.fem.FunctionSpace:\n",
    "        \"\"\"Return the function space of the problem.\"\"\"\n",
    "        return self._V\n",
    "\n",
    "    @property\n",
    "    def bilinear_form(self) -> ufl.Form:\n",
    "        \"\"\"Return the bilinear form of the problem.\"\"\"\n",
    "        return self._a\n",
    "\n",
    "    @property\n",
    "    def linear_form(self) -> ufl.Form:\n",
    "        \"\"\"Return the linear form of the problem.\"\"\"\n",
    "        return self._f\n",
    "\n",
    "    @property\n",
    "    def boundary_conditions(self) -> typing.List[dolfinx.fem.DirichletBCMetaClass]:\n",
    "        \"\"\"Return the boundary conditions for the problem.\"\"\"\n",
    "        return self._bcs\n",
    "\n",
    "    def _assemble_matrix(self) -> petsc4py.PETSc.Mat:\n",
    "        \"\"\"Assemble the left-hand side matrix.\"\"\"\n",
    "        A = dolfinx.fem.assemble_matrix(self._a_cpp, bcs=self._bcs)\n",
    "        A.assemble()\n",
    "        return A\n",
    "\n",
    "    def _assemble_vector(self) -> petsc4py.PETSc.Vec:\n",
    "        \"\"\"Assemble the right-hand side vector.\"\"\"\n",
    "        F = dolfinx.fem.assemble_vector(self._f_cpp)\n",
    "        F.ghostUpdate(addv=petsc4py.PETSc.InsertMode.ADD, mode=petsc4py.PETSc.ScatterMode.REVERSE)\n",
    "        dolfinx.fem.set_bc(F, self._bcs)\n",
    "        return F\n",
    "\n",
    "    def solve(self, mu: np.typing.NDArray[np.float64]) -> dolfinx.fem.Function:\n",
    "        \"\"\"Assign the provided parameters value and solve the problem.\"\"\"\n",
    "        self._mu_symb.value[:] = mu\n",
    "        return self._solve()\n",
    "\n",
    "    def _solve(self) -> dolfinx.fem.Function:\n",
    "        \"\"\"Solve the linear problem with KSP.\"\"\"\n",
    "        A = self._assemble_matrix()\n",
    "        F = self._assemble_vector()\n",
    "        ksp = petsc4py.PETSc.KSP()\n",
    "        ksp.create(mesh.comm)\n",
    "        ksp.setOperators(A)\n",
    "        ksp.setType(\"preonly\")\n",
    "        ksp.getPC().setType(\"lu\")\n",
    "        ksp.getPC().setFactorSolverType(\"mumps\")\n",
    "        ksp.setFromOptions()\n",
    "        solution = dolfinx.fem.Function(self._V)\n",
    "        ksp.solve(F, solution.vector)\n",
    "        solution.vector.ghostUpdate(\n",
    "            addv=petsc4py.PETSc.InsertMode.INSERT, mode=petsc4py.PETSc.ScatterMode.FORWARD)\n",
    "        return solution"
   ]
  },
  {
   "cell_type": "code",
   "execution_count": null,
   "id": "bc93d8c7",
   "metadata": {},
   "outputs": [],
   "source": [
    "problem = Problem()"
   ]
  },
  {
   "cell_type": "code",
   "execution_count": null,
   "id": "a3360501",
   "metadata": {},
   "outputs": [],
   "source": [
    "mu_solve = np.array([8.0, -1.0])\n",
    "solution = problem.solve(mu_solve)"
   ]
  },
  {
   "cell_type": "code",
   "execution_count": null,
   "id": "2a1afd1b",
   "metadata": {},
   "outputs": [],
   "source": [
    "multiphenicsx.io.plot_scalar_field(solution, \"high fidelity solution\")"
   ]
  }
 ],
 "metadata": {
  "kernelspec": {
   "display_name": "Python 3 (ipykernel)",
   "language": "python",
   "name": "python3"
  },
  "language_info": {
   "codemirror_mode": {
    "name": "ipython"
   },
   "file_extension": ".py",
   "mimetype": "text/x-python",
   "name": "python",
   "nbconvert_exporter": "python"
  }
 },
 "nbformat": 4,
 "nbformat_minor": 5
}
