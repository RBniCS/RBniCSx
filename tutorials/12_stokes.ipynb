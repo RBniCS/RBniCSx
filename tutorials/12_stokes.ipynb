{
 "cells": [
  {
   "cell_type": "markdown",
   "id": "f5a07b2e",
   "metadata": {},
   "source": [
    "# Tutorial 12 - Stokes"
   ]
  },
  {
   "cell_type": "code",
   "execution_count": null,
   "id": "b707ea7e",
   "metadata": {},
   "outputs": [],
   "source": [
    "import typing"
   ]
  },
  {
   "cell_type": "code",
   "execution_count": null,
   "id": "fbcdbc96",
   "metadata": {},
   "outputs": [],
   "source": [
    "import dolfinx.fem\n",
    "import gmsh\n",
    "import multiphenicsx.fem\n",
    "import multiphenicsx.io\n",
    "import multiphenicsx.mesh\n",
    "import numpy as np\n",
    "import petsc4py\n",
    "import ufl"
   ]
  },
  {
   "cell_type": "code",
   "execution_count": null,
   "id": "35057dee",
   "metadata": {},
   "outputs": [],
   "source": [
    "import rbnicsx.backends"
   ]
  },
  {
   "cell_type": "markdown",
   "id": "a1b8ff19",
   "metadata": {},
   "source": [
    "## 1. Mesh generation"
   ]
  },
  {
   "cell_type": "code",
   "execution_count": null,
   "id": "835e467b",
   "metadata": {},
   "outputs": [],
   "source": [
    "mesh_size = 1e-1"
   ]
  },
  {
   "cell_type": "code",
   "execution_count": null,
   "id": "b33a0d91",
   "metadata": {},
   "outputs": [],
   "source": [
    "subdomains_vertices = [\n",
    "    [(1.0, 2.0), (1.0, 1.0), (2.0, 1.0)],  # subdomain 1\n",
    "    [(2.0, 1.0), (2.0, 2.0), (1.0, 2.0)],  # subdomain 2\n",
    "    [(0.0, 3.0), (0.0, 2.0), (1.0, 2.0)],  # subdomain 3\n",
    "    [(1.0, 2.0), (1.0, 3.0), (0.0, 3.0)],  # subdomain 4\n",
    "    [(0.0, 2.0), (0.0, 1.0), (1.0, 1.0)],  # subdomain 5\n",
    "    [(1.0, 1.0), (1.0, 2.0), (0.0, 2.0)],  # subdomain 6\n",
    "    [(0.0, 1.0), (0.0, 0.0), (1.0, 0.0)],  # subdomain 7\n",
    "    [(1.0, 0.0), (1.0, 1.0), (0.0, 1.0)]  # subdomain 8\n",
    "]"
   ]
  },
  {
   "cell_type": "code",
   "execution_count": null,
   "id": "df033326",
   "metadata": {},
   "outputs": [],
   "source": [
    "boundaries_vertices = [\n",
    "    [(2.0, 1.0), (2.0, 2.0)],  # boundary 1, inlet\n",
    "    [(0.0, 0.0), (1.0, 0.0)],  # boundary 2, outlet\n",
    "    [[(1.0, 2.0), (1.0, 3.0)],\n",
    "     [(1.0, 3.0), (0.0, 3.0)],\n",
    "     [(0.0, 3.0), (0.0, 2.0)],\n",
    "     [(0.0, 2.0), (0.0, 1.0)],\n",
    "     [(0.0, 1.0), (0.0, 0.0)],\n",
    "     [(1.0, 0.0), (1.0, 1.0)]],  # boundary 3, fixed walls\n",
    "    [[(2.0, 2.0), (1.0, 2.0)],\n",
    "     [(1.0, 1.0), (2.0, 1.0)]]  # boundary 4, parametrized walls\n",
    "]"
   ]
  },
  {
   "cell_type": "code",
   "execution_count": null,
   "id": "12b60638",
   "metadata": {},
   "outputs": [],
   "source": [
    "gmsh.initialize()\n",
    "gmsh.model.add(\"stokes\")"
   ]
  },
  {
   "cell_type": "code",
   "execution_count": null,
   "id": "39a29c68",
   "metadata": {},
   "outputs": [],
   "source": [
    "gmsh_points = dict()\n",
    "for subdomain_vertices in subdomains_vertices:\n",
    "    for vertex in subdomain_vertices:\n",
    "        try:\n",
    "            gmsh_points[vertex]\n",
    "        except KeyError:\n",
    "            gmsh_points[vertex] = gmsh.model.geo.addPoint(vertex[0], vertex[1], 0.0, mesh_size)"
   ]
  },
  {
   "cell_type": "code",
   "execution_count": null,
   "id": "212e12c8",
   "metadata": {},
   "outputs": [],
   "source": [
    "gmsh_lines = dict()\n",
    "gmsh_subdomains = list()\n",
    "for subdomain_vertices in subdomains_vertices:\n",
    "    subdomain_lines = list()\n",
    "    for v in range(3):\n",
    "        key = (gmsh_points[subdomain_vertices[v]], gmsh_points[subdomain_vertices[(v + 1) % 3]])\n",
    "        try:\n",
    "            gmsh_lines[key]\n",
    "        except KeyError:\n",
    "            gmsh_lines[key] = gmsh.model.geo.addLine(*key)\n",
    "            gmsh_lines[key[1], key[0]] = - gmsh_lines[key]\n",
    "        subdomain_lines.append(gmsh_lines[key])\n",
    "    subdomain_lines_loop = gmsh.model.geo.addCurveLoop(subdomain_lines)\n",
    "    gmsh_subdomains.append(gmsh.model.geo.addPlaneSurface([subdomain_lines_loop]))"
   ]
  },
  {
   "cell_type": "code",
   "execution_count": null,
   "id": "4edc7b55",
   "metadata": {},
   "outputs": [],
   "source": [
    "gmsh.model.geo.synchronize()\n",
    "for (label, gmsh_subdomain) in enumerate(gmsh_subdomains):\n",
    "    gmsh.model.addPhysicalGroup(2, [gmsh_subdomain], label + 1)\n",
    "for (label, boundary) in enumerate(boundaries_vertices):\n",
    "    if isinstance(boundary[0], tuple):\n",
    "        gmsh.model.addPhysicalGroup(\n",
    "            1, [gmsh_lines[gmsh_points[boundary[0]], gmsh_points[boundary[1]]]], label + 1)\n",
    "    elif isinstance(boundary[0], list):\n",
    "        gmsh.model.addPhysicalGroup(\n",
    "            1, [gmsh_lines[gmsh_points[boundary_[0]], gmsh_points[boundary_[1]]] for boundary_ in boundary],\n",
    "            label + 1)\n",
    "gmsh.model.mesh.generate(2)"
   ]
  },
  {
   "cell_type": "code",
   "execution_count": null,
   "id": "e36eca53",
   "metadata": {},
   "outputs": [],
   "source": [
    "mesh, subdomains, boundaries = multiphenicsx.mesh.gmsh_to_fenicsx(gmsh.model, gdim=2)\n",
    "gmsh.finalize()"
   ]
  },
  {
   "cell_type": "code",
   "execution_count": null,
   "id": "03ed1dbe",
   "metadata": {},
   "outputs": [],
   "source": [
    "multiphenicsx.io.plot_mesh(mesh)"
   ]
  },
  {
   "cell_type": "code",
   "execution_count": null,
   "id": "77356c46",
   "metadata": {},
   "outputs": [],
   "source": [
    "multiphenicsx.io.plot_mesh_tags(subdomains)"
   ]
  },
  {
   "cell_type": "code",
   "execution_count": null,
   "id": "ba413105",
   "metadata": {},
   "outputs": [],
   "source": [
    "multiphenicsx.io.plot_mesh_tags(boundaries)"
   ]
  },
  {
   "cell_type": "markdown",
   "id": "eb0542d7",
   "metadata": {},
   "source": [
    "## 2. Problem definition"
   ]
  },
  {
   "cell_type": "code",
   "execution_count": null,
   "id": "a99b0bdd",
   "metadata": {},
   "outputs": [],
   "source": [
    "class AffineShapeParametrization(rbnicsx.backends.MeshMotion):\n",
    "    \"\"\"Deform the domain with an affine shape parametrization.\"\"\"\n",
    "\n",
    "    def __init__(self, mu: np.typing.NDArray[np.float64]) -> None:\n",
    "        # Define function space\n",
    "        M = dolfinx.fem.VectorFunctionSpace(mesh, (\"Lagrange\", mesh.geometry.cmap.degree))\n",
    "        # Interpolate affine shape parametrization expression on a dolfinx Function\n",
    "        shape_parametrization = dolfinx.fem.Function(M)\n",
    "        shape_parametrization.interpolate(\n",
    "            lambda x: (\n",
    "                mu[4] * (x[0] - 1) + mu[1], mu[0] * (x[1] - 1) + mu[4] * np.tan(mu[5]) * (x[0] - 1) + mu[2]),\n",
    "            subdomains.indices[np.isin(subdomains.values, (1, 2))])\n",
    "        shape_parametrization.interpolate(\n",
    "            lambda x: (mu[1] * x[0], mu[3] * (x[1] - 2) + mu[2] + mu[0]),\n",
    "            subdomains.indices[np.isin(subdomains.values, (3, 4))])\n",
    "        shape_parametrization.interpolate(\n",
    "            lambda x: (mu[1] * x[0], mu[0] * (x[1] - 1) + mu[2]),\n",
    "            subdomains.indices[np.isin(subdomains.values, (5, 6))])\n",
    "        shape_parametrization.interpolate(\n",
    "            lambda x: (mu[1] * x[0], mu[2] * x[1]),\n",
    "            subdomains.indices[np.isin(subdomains.values, (7, 8))])\n",
    "        # Initialize mesh motion object\n",
    "        super().__init__(mesh, shape_parametrization)"
   ]
  },
  {
   "cell_type": "code",
   "execution_count": null,
   "id": "38138804",
   "metadata": {},
   "outputs": [],
   "source": [
    "mu_mesh_motion = np.array([0.5, 1.5, 0.75, 1.5, 1.25, np.pi / 6])\n",
    "with AffineShapeParametrization(mu_mesh_motion):\n",
    "    multiphenicsx.io.plot_mesh_tags(subdomains)"
   ]
  },
  {
   "cell_type": "code",
   "execution_count": null,
   "id": "fba7c567",
   "metadata": {},
   "outputs": [],
   "source": [
    "class Problem(object):\n",
    "    \"\"\"Define a linear problem, and solve it with KSP.\"\"\"\n",
    "\n",
    "    def __init__(self) -> None:\n",
    "        # Define function space\n",
    "        V_element = ufl.VectorElement(\"Lagrange\", mesh.ufl_cell(), 2)\n",
    "        Q_element = ufl.FiniteElement(\"Lagrange\", mesh.ufl_cell(), 1)\n",
    "        V = dolfinx.fem.FunctionSpace(mesh, V_element)\n",
    "        Q = dolfinx.fem.FunctionSpace(mesh, Q_element)\n",
    "        self._VQ = (V, Q)\n",
    "        # Define trial and test functions\n",
    "        (v, q) = (ufl.TestFunction(V), ufl.TestFunction(Q))\n",
    "        (u, p) = (ufl.TrialFunction(V), ufl.TrialFunction(Q))\n",
    "        # Define bilinear form of the problem\n",
    "        lhs = [\n",
    "            [ufl.inner(ufl.grad(u), ufl.grad(v)) * ufl.dx, - ufl.inner(p, ufl.div(v)) * ufl.dx],\n",
    "            [ufl.inner(ufl.div(u), q) * ufl.dx, None]\n",
    "        ]\n",
    "        self._lhs = lhs\n",
    "        self._lhs_cpp = dolfinx.fem.form(lhs)\n",
    "        # Define linear form of the problem\n",
    "        gravity = dolfinx.fem.Constant(mesh, np.array([0.0, -10.0], petsc4py.PETSc.ScalarType))\n",
    "        zero_scalar = dolfinx.fem.Constant(mesh, petsc4py.PETSc.ScalarType(0))\n",
    "        rhs = [ufl.inner(gravity, v) * ufl.dx, ufl.inner(zero_scalar, q) * ufl.dx]\n",
    "        self._rhs = rhs\n",
    "        self._rhs_cpp = dolfinx.fem.form(rhs)\n",
    "        # Define boundary conditions for the problem\n",
    "        zero_vector = dolfinx.fem.Constant(mesh, np.zeros(mesh.topology.dim, petsc4py.PETSc.ScalarType))\n",
    "        facets_walls = boundaries.indices[np.isin(boundaries.values, (3, 4))]\n",
    "        bdofs_V_walls = dolfinx.fem.locate_dofs_topological(V, mesh.topology.dim - 1, facets_walls)\n",
    "        bcs = [dolfinx.fem.dirichletbc(zero_vector, bdofs_V_walls, V)]\n",
    "        self._bcs = bcs\n",
    "        # Prepare storage for mesh motion object\n",
    "        self._mesh_motion = None\n",
    "\n",
    "    @property\n",
    "    def function_spaces(self) -> typing.Tuple[dolfinx.fem.FunctionSpace, dolfinx.fem.FunctionSpace]:\n",
    "        \"\"\"Return the function spaces of the problem.\"\"\"\n",
    "        return self._VQ\n",
    "\n",
    "    @property\n",
    "    def bilinear_block_form(self) -> typing.List[typing.List[ufl.Form]]:\n",
    "        \"\"\"Return the bilinear block form of the problem.\"\"\"\n",
    "        return self._lhs\n",
    "\n",
    "    @property\n",
    "    def linear_block_form(self) -> typing.List[ufl.Form]:\n",
    "        \"\"\"Return the linear block form of the problem.\"\"\"\n",
    "        return self._rhs\n",
    "\n",
    "    @property\n",
    "    def boundary_conditions(self) -> typing.List[dolfinx.fem.DirichletBCMetaClass]:\n",
    "        \"\"\"Return the boundary conditions for the problem.\"\"\"\n",
    "        return self._bcs\n",
    "\n",
    "    @property\n",
    "    def mesh_motion(self) -> rbnicsx.backends.MeshMotion:\n",
    "        \"\"\"Return the mesh motion object that was used in the latest solve.\"\"\"\n",
    "        return self._mesh_motion\n",
    "\n",
    "    def _assemble_matrix(self) -> petsc4py.PETSc.Mat:\n",
    "        \"\"\"Assemble the left-hand side matrix.\"\"\"\n",
    "        A = dolfinx.fem.assemble_matrix_block(self._lhs_cpp, bcs=self._bcs)\n",
    "        A.assemble()\n",
    "        return A\n",
    "\n",
    "    def _assemble_vector(self) -> petsc4py.PETSc.Vec:\n",
    "        \"\"\"Assemble the right-hand side vector.\"\"\"\n",
    "        return dolfinx.fem.assemble_vector_block(self._rhs_cpp, self._lhs_cpp, bcs=self._bcs)\n",
    "\n",
    "    def solve(self, mu: np.typing.NDArray[np.float64]) -> dolfinx.fem.Function:\n",
    "        \"\"\"Apply shape parametrization and solve the problem.\"\"\"\n",
    "        with AffineShapeParametrization(mu) as self._mesh_motion:\n",
    "            return self._solve()\n",
    "\n",
    "    def _solve(self) -> dolfinx.fem.Function:\n",
    "        \"\"\"Solve the linear problem with KSP.\"\"\"\n",
    "        A = self._assemble_matrix()\n",
    "        F = self._assemble_vector()\n",
    "        ksp = petsc4py.PETSc.KSP()\n",
    "        ksp.create(mesh.comm)\n",
    "        ksp.setOperators(A)\n",
    "        ksp.setType(\"preonly\")\n",
    "        ksp.getPC().setType(\"lu\")\n",
    "        ksp.getPC().setFactorSolverType(\"mumps\")\n",
    "        ksp.setFromOptions()\n",
    "        solution = dolfinx.fem.create_vector_block(self._rhs_cpp)\n",
    "        ksp.solve(F, solution)\n",
    "        solution.ghostUpdate(\n",
    "            addv=petsc4py.PETSc.InsertMode.INSERT, mode=petsc4py.PETSc.ScatterMode.FORWARD)\n",
    "        (solution_u, solution_p) = (dolfinx.fem.Function(self._VQ[0]), dolfinx.fem.Function(self._VQ[1]))\n",
    "        with multiphenicsx.fem.BlockVecSubVectorWrapper(\n",
    "            solution, [c.function_space.dofmap for c in (solution_u, solution_p)]\n",
    "        ) as solution_wrapper:\n",
    "            for solution_wrapper_local, component in zip(solution_wrapper, (solution_u, solution_p)):\n",
    "                with component.vector.localForm() as component_local:\n",
    "                    component_local[:] = solution_wrapper_local\n",
    "        return (solution_u, solution_p)"
   ]
  },
  {
   "cell_type": "code",
   "execution_count": null,
   "id": "dc12ffe3",
   "metadata": {},
   "outputs": [],
   "source": [
    "problem = Problem()"
   ]
  },
  {
   "cell_type": "code",
   "execution_count": null,
   "id": "6577c13c",
   "metadata": {},
   "outputs": [],
   "source": [
    "mu_solve = np.array([0.5, 1.5, 0.75, 1.5, 1.25, np.pi / 6])\n",
    "(solution_u, solution_p) = problem.solve(mu_solve)"
   ]
  },
  {
   "cell_type": "code",
   "execution_count": null,
   "id": "f3ec4f42",
   "metadata": {},
   "outputs": [],
   "source": [
    "with problem.mesh_motion:\n",
    "    multiphenicsx.io.plot_vector_field(solution_u, \"high fidelity velocity\", glyph_factor=1)"
   ]
  },
  {
   "cell_type": "code",
   "execution_count": null,
   "id": "5db66431",
   "metadata": {},
   "outputs": [],
   "source": [
    "with problem.mesh_motion:\n",
    "    multiphenicsx.io.plot_scalar_field(solution_p, \"high fidelity pressure\")"
   ]
  }
 ],
 "metadata": {
  "kernelspec": {
   "display_name": "Python 3 (ipykernel)",
   "language": "python",
   "name": "python3"
  },
  "language_info": {
   "codemirror_mode": {
    "name": "ipython"
   },
   "file_extension": ".py",
   "mimetype": "text/x-python",
   "name": "python",
   "nbconvert_exporter": "python"
  }
 },
 "nbformat": 4,
 "nbformat_minor": 5
}
