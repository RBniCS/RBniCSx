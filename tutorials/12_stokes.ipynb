{
 "cells": [
  {
   "cell_type": "markdown",
   "id": "f5a07b2e",
   "metadata": {},
   "source": [
    "# Tutorial 12 - Stokes"
   ]
  },
  {
   "cell_type": "code",
   "execution_count": null,
   "id": "fbcdbc96",
   "metadata": {},
   "outputs": [],
   "source": [
    "import gmsh\n",
    "import multiphenicsx.io\n",
    "import multiphenicsx.mesh"
   ]
  },
  {
   "cell_type": "markdown",
   "id": "a1b8ff19",
   "metadata": {},
   "source": [
    "## 1. Mesh generation"
   ]
  },
  {
   "cell_type": "code",
   "execution_count": null,
   "id": "835e467b",
   "metadata": {},
   "outputs": [],
   "source": [
    "mesh_size = 1e-1"
   ]
  },
  {
   "cell_type": "code",
   "execution_count": null,
   "id": "b33a0d91",
   "metadata": {},
   "outputs": [],
   "source": [
    "subdomains_vertices = [\n",
    "    [(1.0, 2.0), (1.0, 1.0), (2.0, 1.0)],  # subdomain 1\n",
    "    [(2.0, 1.0), (2.0, 2.0), (1.0, 2.0)],  # subdomain 2\n",
    "    [(0.0, 3.0), (0.0, 2.0), (1.0, 2.0)],  # subdomain 3\n",
    "    [(1.0, 2.0), (1.0, 3.0), (0.0, 3.0)],  # subdomain 4\n",
    "    [(0.0, 2.0), (0.0, 1.0), (1.0, 1.0)],  # subdomain 5\n",
    "    [(1.0, 1.0), (1.0, 2.0), (0.0, 2.0)],  # subdomain 6\n",
    "    [(0.0, 1.0), (0.0, 0.0), (1.0, 0.0)],  # subdomain 7\n",
    "    [(1.0, 0.0), (1.0, 1.0), (0.0, 1.0)]  # subdomain 8\n",
    "]"
   ]
  },
  {
   "cell_type": "code",
   "execution_count": null,
   "id": "df033326",
   "metadata": {},
   "outputs": [],
   "source": [
    "boundaries_vertices = [\n",
    "    [(2.0, 1.0), (2.0, 2.0)],  # boundary 1, inlet\n",
    "    [(0.0, 0.0), (1.0, 0.0)],  # boundary 2, outlet\n",
    "    [[(0.0, 3.0), (0.0, 2.0)],\n",
    "     [(0.0, 2.0), (0.0, 1.0)],\n",
    "     [(0.0, 1.0), (0.0, 0.0)],\n",
    "     [(1.0, 3.0), (0.0, 3.0)],\n",
    "     [(1.0, 2.0), (1.0, 3.0)],\n",
    "     [(2.0, 2.0), (1.0, 2.0)],\n",
    "     [(1.0, 1.0), (2.0, 1.0)],\n",
    "     [(1.0, 0.0), (1.0, 1.0)]],  # boundary 3, walls\n",
    "]"
   ]
  },
  {
   "cell_type": "code",
   "execution_count": null,
   "id": "12b60638",
   "metadata": {},
   "outputs": [],
   "source": [
    "gmsh.initialize()\n",
    "gmsh.model.add(\"stokes\")"
   ]
  },
  {
   "cell_type": "code",
   "execution_count": null,
   "id": "39a29c68",
   "metadata": {},
   "outputs": [],
   "source": [
    "gmsh_points = dict()\n",
    "for subdomain_vertices in subdomains_vertices:\n",
    "    for vertex in subdomain_vertices:\n",
    "        try:\n",
    "            gmsh_points[vertex]\n",
    "        except KeyError:\n",
    "            gmsh_points[vertex] = gmsh.model.geo.addPoint(vertex[0], vertex[1], 0.0, mesh_size)"
   ]
  },
  {
   "cell_type": "code",
   "execution_count": null,
   "id": "212e12c8",
   "metadata": {},
   "outputs": [],
   "source": [
    "gmsh_lines = dict()\n",
    "gmsh_subdomains = list()\n",
    "for subdomain_vertices in subdomains_vertices:\n",
    "    subdomain_lines = list()\n",
    "    for v in range(3):\n",
    "        key = (gmsh_points[subdomain_vertices[v]], gmsh_points[subdomain_vertices[(v + 1) % 3]])\n",
    "        try:\n",
    "            gmsh_lines[key]\n",
    "        except KeyError:\n",
    "            gmsh_lines[key] = gmsh.model.geo.addLine(*key)\n",
    "            gmsh_lines[key[1], key[0]] = - gmsh_lines[key]\n",
    "        subdomain_lines.append(gmsh_lines[key])\n",
    "    subdomain_lines_loop = gmsh.model.geo.addCurveLoop(subdomain_lines)\n",
    "    gmsh_subdomains.append(gmsh.model.geo.addPlaneSurface([subdomain_lines_loop]))"
   ]
  },
  {
   "cell_type": "code",
   "execution_count": null,
   "id": "4edc7b55",
   "metadata": {},
   "outputs": [],
   "source": [
    "gmsh.model.geo.synchronize()\n",
    "for (label, gmsh_subdomain) in enumerate(gmsh_subdomains):\n",
    "    gmsh.model.addPhysicalGroup(2, [gmsh_subdomain], label + 1)\n",
    "for (label, boundary) in enumerate(boundaries_vertices):\n",
    "    if isinstance(boundary[0], tuple):\n",
    "        gmsh.model.addPhysicalGroup(\n",
    "            1, [gmsh_lines[gmsh_points[boundary[0]], gmsh_points[boundary[1]]]], label + 1)\n",
    "    elif isinstance(boundary[0], list):\n",
    "        gmsh.model.addPhysicalGroup(\n",
    "            1, [gmsh_lines[gmsh_points[boundary_[0]], gmsh_points[boundary_[1]]] for boundary_ in boundary],\n",
    "            label + 1)\n",
    "gmsh.model.mesh.generate(2)"
   ]
  },
  {
   "cell_type": "code",
   "execution_count": null,
   "id": "e36eca53",
   "metadata": {},
   "outputs": [],
   "source": [
    "mesh, subdomains, boundaries = multiphenicsx.mesh.gmsh_to_fenicsx(gmsh.model, gdim=2)\n",
    "gmsh.finalize()"
   ]
  },
  {
   "cell_type": "code",
   "execution_count": null,
   "id": "03ed1dbe",
   "metadata": {},
   "outputs": [],
   "source": [
    "multiphenicsx.io.plot_mesh(mesh)"
   ]
  },
  {
   "cell_type": "code",
   "execution_count": null,
   "id": "77356c46",
   "metadata": {},
   "outputs": [],
   "source": [
    "multiphenicsx.io.plot_mesh_tags(subdomains)"
   ]
  },
  {
   "cell_type": "code",
   "execution_count": null,
   "id": "ba413105",
   "metadata": {},
   "outputs": [],
   "source": [
    "multiphenicsx.io.plot_mesh_tags(boundaries)"
   ]
  }
 ],
 "metadata": {
  "kernelspec": {
   "display_name": "Python 3 (ipykernel)",
   "language": "python",
   "name": "python3"
  },
  "language_info": {
   "codemirror_mode": {
    "name": "ipython"
   },
   "file_extension": ".py",
   "mimetype": "text/x-python",
   "name": "python",
   "nbconvert_exporter": "python"
  }
 },
 "nbformat": 4,
 "nbformat_minor": 5
}
