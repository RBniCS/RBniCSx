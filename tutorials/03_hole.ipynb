{
 "cells": [
  {
   "cell_type": "markdown",
   "id": "24e3064a",
   "metadata": {},
   "source": [
    "# Tutorial 03 - Hole"
   ]
  },
  {
   "cell_type": "code",
   "execution_count": null,
   "id": "8e9f353e",
   "metadata": {},
   "outputs": [],
   "source": [
    "import dolfinx.fem\n",
    "import gmsh\n",
    "import multiphenicsx.io\n",
    "import multiphenicsx.mesh\n",
    "import numpy as np\n",
    "import petsc4py\n",
    "import ufl"
   ]
  },
  {
   "cell_type": "code",
   "execution_count": null,
   "id": "a2087895",
   "metadata": {},
   "outputs": [],
   "source": [
    "import rbnicsx.backends"
   ]
  },
  {
   "cell_type": "markdown",
   "id": "bf8a46b2",
   "metadata": {},
   "source": [
    "## 1. Mesh generation"
   ]
  },
  {
   "cell_type": "code",
   "execution_count": null,
   "id": "39aa5179",
   "metadata": {},
   "outputs": [],
   "source": [
    "mesh_size = 1e-1"
   ]
  },
  {
   "cell_type": "code",
   "execution_count": null,
   "id": "5f5a40df",
   "metadata": {},
   "outputs": [],
   "source": [
    "subdomains_vertices = [\n",
    "    [(-1.0, -1.0), (-2.0, -2.0), (1.0, -1.0)],  # subdomain 1\n",
    "    [(1.0, -1.0), (-2.0, -2.0), (2.0, -2.0)],  # subdomain 2\n",
    "    [(-1.0, -1.0), (-1.0, 1.0), (-2.0, -2.0)],  # subdomain 3\n",
    "    [(-1.0, 1.0), (-2.0, 2.0), (-2.0, -2.0)],  # subdomain 4\n",
    "    [(1.0, -1.0), (2.0, -2.0), (1.0, 1.0)],  # subdomain 5\n",
    "    [(2.0, 2.0), (1.0, 1.0), (2.0, -2.0)],  # subdomain 6\n",
    "    [(-1.0, 1.0), (1.0, 1.0), (-2.0, 2.0)],  # subdomain 7\n",
    "    [(2.0, 2.0), (-2.0, 2.0), (1.0, 1.0)]  # subdomain 8\n",
    "]"
   ]
  },
  {
   "cell_type": "code",
   "execution_count": null,
   "id": "8cecadf2",
   "metadata": {},
   "outputs": [],
   "source": [
    "boundaries_vertices = [\n",
    "    [(-1.0, -1.0), (1.0, -1.0)],  # boundary 1, bottom inner\n",
    "    [(-1.0, -1.0), (-1.0, 1.0)],  # boundary 2, left inner\n",
    "    [(-1.0, 1.0), (1.0, 1.0)],  # boundary 3, top inner\n",
    "    [(1.0, -1.0), (1.0, 1.0)],  # boundary 4, right inner\n",
    "    [(-2.0, -2.0), (2.0, -2.0)],  # boundary 5, bottom outer\n",
    "    [(-2.0, -2.0), (-2.0, 2.0)],  # boundary 6, left outer\n",
    "    [(-2.0, 2.0), (2.0, 2.0)],  # boundary 7, top outer\n",
    "    [(2.0, -2.0), (2.0, 2.0)]  # boundary 8, right outer\n",
    "]"
   ]
  },
  {
   "cell_type": "code",
   "execution_count": null,
   "id": "7e42bb45",
   "metadata": {},
   "outputs": [],
   "source": [
    "gmsh.initialize()\n",
    "gmsh.model.add(\"hole\")"
   ]
  },
  {
   "cell_type": "code",
   "execution_count": null,
   "id": "1a68da9a",
   "metadata": {},
   "outputs": [],
   "source": [
    "gmsh_points = dict()\n",
    "for subdomain_vertices in subdomains_vertices:\n",
    "    for vertex in subdomain_vertices:\n",
    "        try:\n",
    "            gmsh_points[vertex]\n",
    "        except KeyError:\n",
    "            gmsh_points[vertex] = gmsh.model.geo.addPoint(vertex[0], vertex[1], 0.0, mesh_size)"
   ]
  },
  {
   "cell_type": "code",
   "execution_count": null,
   "id": "d0ea4c1f",
   "metadata": {},
   "outputs": [],
   "source": [
    "gmsh_lines = dict()\n",
    "gmsh_subdomains = list()\n",
    "for subdomain_vertices in subdomains_vertices:\n",
    "    subdomain_lines = list()\n",
    "    for v in range(3):\n",
    "        key = (gmsh_points[subdomain_vertices[v]], gmsh_points[subdomain_vertices[(v + 1) % 3]])\n",
    "        try:\n",
    "            gmsh_lines[key]\n",
    "        except KeyError:\n",
    "            gmsh_lines[key] = gmsh.model.geo.addLine(*key)\n",
    "            gmsh_lines[key[1], key[0]] = - gmsh_lines[key]\n",
    "        subdomain_lines.append(gmsh_lines[key])\n",
    "    subdomain_lines_loop = gmsh.model.geo.addCurveLoop(subdomain_lines)\n",
    "    gmsh_subdomains.append(gmsh.model.geo.addPlaneSurface([subdomain_lines_loop]))"
   ]
  },
  {
   "cell_type": "code",
   "execution_count": null,
   "id": "8777bb32",
   "metadata": {},
   "outputs": [],
   "source": [
    "gmsh.model.geo.synchronize()\n",
    "for (label, gmsh_subdomain) in enumerate(gmsh_subdomains):\n",
    "    gmsh.model.addPhysicalGroup(2, [gmsh_subdomain], label + 1)\n",
    "for (label, boundary) in enumerate(boundaries_vertices):\n",
    "    gmsh.model.addPhysicalGroup(1, [gmsh_lines[gmsh_points[boundary[0]], gmsh_points[boundary[1]]]], label + 1)\n",
    "gmsh.model.mesh.generate(2)"
   ]
  },
  {
   "cell_type": "code",
   "execution_count": null,
   "id": "480dabef",
   "metadata": {},
   "outputs": [],
   "source": [
    "mesh, subdomains, boundaries = multiphenicsx.mesh.gmsh_to_fenicsx(gmsh.model, gdim=2)\n",
    "gmsh.finalize()"
   ]
  },
  {
   "cell_type": "code",
   "execution_count": null,
   "id": "d18a5d9d",
   "metadata": {},
   "outputs": [],
   "source": [
    "multiphenicsx.io.plot_mesh(mesh)"
   ]
  },
  {
   "cell_type": "code",
   "execution_count": null,
   "id": "8aaf32cf",
   "metadata": {},
   "outputs": [],
   "source": [
    "multiphenicsx.io.plot_mesh_tags(subdomains)"
   ]
  },
  {
   "cell_type": "code",
   "execution_count": null,
   "id": "8a06605a",
   "metadata": {},
   "outputs": [],
   "source": [
    "multiphenicsx.io.plot_mesh_tags(boundaries)"
   ]
  },
  {
   "cell_type": "markdown",
   "id": "4320f5e8",
   "metadata": {},
   "source": [
    "## 2. Problem definition"
   ]
  },
  {
   "cell_type": "code",
   "execution_count": null,
   "id": "5e587223",
   "metadata": {},
   "outputs": [],
   "source": [
    "class HarmonicExtension(rbnicsx.backends.MeshMotion):\n",
    "    \"\"\"Extend the shape parametrization from the boundary to the interior with an harmonic extension.\"\"\"\n",
    "\n",
    "    def __init__(self, mu: np.typing.NDArray[np.float64]) -> None:\n",
    "        # Define function space\n",
    "        M = dolfinx.fem.VectorFunctionSpace(mesh, (\"Lagrange\", mesh.geometry.cmap.degree))\n",
    "        # Define trial and test functions\n",
    "        m = ufl.TrialFunction(M)\n",
    "        n = ufl.TestFunction(M)\n",
    "        # Define bilinear form of the harmonic extension problem\n",
    "        a_he = dolfinx.fem.form(ufl.inner(ufl.grad(m), ufl.grad(n)) * ufl.dx)\n",
    "        a_he_cpp = dolfinx.fem.form(a_he)\n",
    "        # Define linear form of the harmonic extension problem\n",
    "        zero_vector = dolfinx.fem.Constant(mesh, np.zeros(mesh.topology.dim, petsc4py.PETSc.ScalarType))\n",
    "        f_he = dolfinx.fem.form(ufl.inner(zero_vector, n) * ufl.dx)\n",
    "        f_he_cpp = dolfinx.fem.form(f_he)\n",
    "        # Define boundary conditions for the harmonic extension problem\n",
    "        facets_inner_boundaries = boundaries.indices[np.isin(boundaries.values, (1, 2, 3, 4))]\n",
    "        facets_outer_boundaries = boundaries.indices[np.isin(boundaries.values, (5, 6, 7, 8))]\n",
    "        bdofs_M_inner_boundaries = dolfinx.fem.locate_dofs_topological(\n",
    "            M, mesh.topology.dim - 1, facets_inner_boundaries)\n",
    "        bdofs_M_outer_boundaries = dolfinx.fem.locate_dofs_topological(\n",
    "            M, mesh.topology.dim - 1, facets_outer_boundaries)\n",
    "        shape_parametrization_inner_boundaries = dolfinx.fem.Function(M)\n",
    "        shape_parametrization_inner_boundaries.interpolate(lambda x: (mu[0] * x[0], mu[1] * x[1]))\n",
    "        shape_parametrization_outer_boundaries = dolfinx.fem.Function(M)\n",
    "        shape_parametrization_outer_boundaries.interpolate(lambda x: (x[0], x[1]))\n",
    "        bcs_he = [\n",
    "            dolfinx.fem.dirichletbc(shape_parametrization_inner_boundaries, bdofs_M_inner_boundaries),\n",
    "            dolfinx.fem.dirichletbc(shape_parametrization_outer_boundaries, bdofs_M_outer_boundaries)]\n",
    "        # Assemble the left-hand side matrix of the harmonic extension problem\n",
    "        A = dolfinx.fem.assemble_matrix(a_he_cpp, bcs=bcs_he)\n",
    "        A.assemble()\n",
    "        # Assemble the right-hand side vector of the harmonic extension problem\n",
    "        F = dolfinx.fem.assemble_vector(f_he_cpp)\n",
    "        dolfinx.fem.apply_lifting(F, [a_he_cpp], [bcs_he])\n",
    "        F.ghostUpdate(addv=petsc4py.PETSc.InsertMode.ADD, mode=petsc4py.PETSc.ScatterMode.REVERSE)\n",
    "        dolfinx.fem.set_bc(F, bcs_he)\n",
    "        # Solve the harmonic extension problem\n",
    "        ksp = petsc4py.PETSc.KSP()\n",
    "        ksp.create(mesh.comm)\n",
    "        ksp.setOperators(A)\n",
    "        ksp.setType(\"preonly\")\n",
    "        ksp.getPC().setType(\"lu\")\n",
    "        ksp.getPC().setFactorSolverType(\"mumps\")\n",
    "        ksp.setFromOptions()\n",
    "        shape_parametrization = dolfinx.fem.Function(M)\n",
    "        ksp.solve(F, shape_parametrization.vector)\n",
    "        shape_parametrization.vector.ghostUpdate(\n",
    "            addv=petsc4py.PETSc.InsertMode.INSERT, mode=petsc4py.PETSc.ScatterMode.FORWARD)\n",
    "        # Initialize mesh motion object\n",
    "        super().__init__(mesh, shape_parametrization)"
   ]
  },
  {
   "cell_type": "code",
   "execution_count": null,
   "id": "d176cfae",
   "metadata": {},
   "outputs": [],
   "source": [
    "mu_mesh_motion = np.array([0.5, 0.5, np.nan])\n",
    "with HarmonicExtension(mu_mesh_motion) as harmonic_extension:\n",
    "    multiphenicsx.io.plot_mesh(mesh)"
   ]
  },
  {
   "cell_type": "code",
   "execution_count": null,
   "id": "f984f5e5",
   "metadata": {},
   "outputs": [],
   "source": [
    "multiphenicsx.io.plot_vector_field(harmonic_extension.deformation, \"domain deformation\", glyph_factor=1.0)"
   ]
  },
  {
   "cell_type": "code",
   "execution_count": null,
   "id": "a8796dc8",
   "metadata": {},
   "outputs": [],
   "source": [
    "del harmonic_extension"
   ]
  },
  {
   "cell_type": "code",
   "execution_count": null,
   "id": "6185da8f",
   "metadata": {},
   "outputs": [],
   "source": [
    "class Problem(object):\n",
    "    \"\"\"Define a linear problem, and solve it with KSP.\"\"\"\n",
    "\n",
    "    def __init__(self) -> None:\n",
    "        # Define function space\n",
    "        V = dolfinx.fem.FunctionSpace(mesh, (\"Lagrange\", 1))\n",
    "        self._V = V\n",
    "        # Define trial and test functions\n",
    "        u = ufl.TrialFunction(V)\n",
    "        v = ufl.TestFunction(V)\n",
    "        # Define measures for integration of forms\n",
    "        dx = ufl.Measure(\"dx\")(subdomain_data=subdomains)\n",
    "        ds = ufl.Measure(\"ds\")(subdomain_data=boundaries)\n",
    "        # Define symbolic parameters for use in UFL forms\n",
    "        mu_symb = rbnicsx.backends.SymbolicParameters(mesh, shape=(3, ))\n",
    "        self._mu_symb = mu_symb\n",
    "        # Define bilinear form of the problem\n",
    "        a = (\n",
    "            ufl.inner(ufl.grad(u), ufl.grad(v)) * dx + mu_symb[2] * (\n",
    "                ufl.inner(u, v) * ds(5) + ufl.inner(u, v) * ds(6)\n",
    "                + ufl.inner(u, v) * ds(7) + ufl.inner(u, v) * ds(8)\n",
    "            )\n",
    "        )\n",
    "        self._a = a\n",
    "        self._a_cpp = dolfinx.fem.form(a)\n",
    "        # Define linear form of the problem\n",
    "        one = petsc4py.PETSc.ScalarType(1)\n",
    "        f = (\n",
    "            ufl.inner(one, v) * ds(1) + ufl.inner(one, v) * ds(2)\n",
    "            + ufl.inner(one, v) * ds(3) + ufl.inner(one, v) * ds(4)\n",
    "        )\n",
    "        self._f = f\n",
    "        self._f_cpp = dolfinx.fem.form(f)\n",
    "        # Prepare storage for mesh motion object\n",
    "        self._mesh_motion = None\n",
    "\n",
    "    @property\n",
    "    def function_space(self) -> dolfinx.fem.FunctionSpace:\n",
    "        \"\"\"Return the function space of the problem.\"\"\"\n",
    "        return self._V\n",
    "\n",
    "    @property\n",
    "    def bilinear_form(self) -> ufl.Form:\n",
    "        \"\"\"Return the bilinear form of the problem.\"\"\"\n",
    "        return self._a\n",
    "\n",
    "    @property\n",
    "    def linear_form(self) -> ufl.Form:\n",
    "        \"\"\"Return the linear form of the problem.\"\"\"\n",
    "        return self._f\n",
    "\n",
    "    @property\n",
    "    def mesh_motion(self) -> rbnicsx.backends.MeshMotion:\n",
    "        \"\"\"Return the mesh motion object that was used in the latest solve.\"\"\"\n",
    "        return self._mesh_motion\n",
    "\n",
    "    def _assemble_matrix(self) -> petsc4py.PETSc.Mat:\n",
    "        \"\"\"Assemble the left-hand side matrix.\"\"\"\n",
    "        A = dolfinx.fem.assemble_matrix(self._a_cpp)\n",
    "        A.assemble()\n",
    "        return A\n",
    "\n",
    "    def _assemble_vector(self) -> petsc4py.PETSc.Vec:\n",
    "        \"\"\"Assemble the right-hand side vector.\"\"\"\n",
    "        F = dolfinx.fem.assemble_vector(self._f_cpp)\n",
    "        F.ghostUpdate(addv=petsc4py.PETSc.InsertMode.ADD, mode=petsc4py.PETSc.ScatterMode.REVERSE)\n",
    "        return F\n",
    "\n",
    "    def solve(self, mu: np.typing.NDArray[np.float64]) -> dolfinx.fem.Function:\n",
    "        \"\"\"Assign the provided parameters value, apply shape parametrization and solve the problem.\"\"\"\n",
    "        self._mu_symb.value[:] = mu\n",
    "        with HarmonicExtension(mu) as self._mesh_motion:\n",
    "            return self._solve()\n",
    "\n",
    "    def _solve(self) -> dolfinx.fem.Function:\n",
    "        \"\"\"Solve the linear problem with KSP.\"\"\"\n",
    "        A = self._assemble_matrix()\n",
    "        F = self._assemble_vector()\n",
    "        ksp = petsc4py.PETSc.KSP()\n",
    "        ksp.create(mesh.comm)\n",
    "        ksp.setOperators(A)\n",
    "        ksp.setType(\"preonly\")\n",
    "        ksp.getPC().setType(\"lu\")\n",
    "        ksp.getPC().setFactorSolverType(\"mumps\")\n",
    "        ksp.setFromOptions()\n",
    "        solution = dolfinx.fem.Function(self._V)\n",
    "        ksp.solve(F, solution.vector)\n",
    "        solution.vector.ghostUpdate(\n",
    "            addv=petsc4py.PETSc.InsertMode.INSERT, mode=petsc4py.PETSc.ScatterMode.FORWARD)\n",
    "        return solution"
   ]
  },
  {
   "cell_type": "code",
   "execution_count": null,
   "id": "66ceb74a",
   "metadata": {},
   "outputs": [],
   "source": [
    "problem = Problem()"
   ]
  },
  {
   "cell_type": "code",
   "execution_count": null,
   "id": "22498f94",
   "metadata": {},
   "outputs": [],
   "source": [
    "mu_solve = np.array([0.5, 0.5, 0.01])\n",
    "solution = problem.solve(mu_solve)"
   ]
  },
  {
   "cell_type": "code",
   "execution_count": null,
   "id": "eafd43e3",
   "metadata": {},
   "outputs": [],
   "source": [
    "multiphenicsx.io.plot_scalar_field(solution, \"high fidelity solution on the reference domain\")"
   ]
  },
  {
   "cell_type": "code",
   "execution_count": null,
   "id": "09dfb7d6",
   "metadata": {},
   "outputs": [],
   "source": [
    "with problem.mesh_motion:\n",
    "    multiphenicsx.io.plot_scalar_field(solution, \"high fidelity solution on the deformed domain\")"
   ]
  }
 ],
 "metadata": {
  "kernelspec": {
   "display_name": "Python 3 (ipykernel)",
   "language": "python",
   "name": "python3"
  },
  "language_info": {
   "codemirror_mode": {
    "name": "ipython"
   },
   "file_extension": ".py",
   "mimetype": "text/x-python",
   "name": "python",
   "nbconvert_exporter": "python"
  }
 },
 "nbformat": 4,
 "nbformat_minor": 5
}
