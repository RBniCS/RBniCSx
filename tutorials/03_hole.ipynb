{
 "cells": [
  {
   "cell_type": "markdown",
   "id": "24e3064a",
   "metadata": {},
   "source": [
    "# Tutorial 03 - Hole"
   ]
  },
  {
   "cell_type": "code",
   "execution_count": null,
   "id": "8e9f353e",
   "metadata": {},
   "outputs": [],
   "source": [
    "import gmsh\n",
    "import multiphenicsx.io\n",
    "import multiphenicsx.mesh"
   ]
  },
  {
   "cell_type": "markdown",
   "id": "bf8a46b2",
   "metadata": {},
   "source": [
    "## 1. Mesh generation"
   ]
  },
  {
   "cell_type": "code",
   "execution_count": null,
   "id": "39aa5179",
   "metadata": {},
   "outputs": [],
   "source": [
    "mesh_size = 1e-1"
   ]
  },
  {
   "cell_type": "code",
   "execution_count": null,
   "id": "5f5a40df",
   "metadata": {},
   "outputs": [],
   "source": [
    "subdomains_vertices = [\n",
    "    [(-1.0, -1.0), (-2.0, -2.0), (1.0, -1.0)],  # subdomain 1\n",
    "    [(1.0, -1.0), (-2.0, -2.0), (2.0, -2.0)],  # subdomain 2\n",
    "    [(-1.0, -1.0), (-1.0, 1.0), (-2.0, -2.0)],  # subdomain 3\n",
    "    [(-1.0, 1.0), (-2.0, 2.0), (-2.0, -2.0)],  # subdomain 4\n",
    "    [(1.0, -1.0), (2.0, -2.0), (1.0, 1.0)],  # subdomain 5\n",
    "    [(2.0, 2.0), (1.0, 1.0), (2.0, -2.0)],  # subdomain 6\n",
    "    [(-1.0, 1.0), (1.0, 1.0), (-2.0, 2.0)],  # subdomain 7\n",
    "    [(2.0, 2.0), (-2.0, 2.0), (1.0, 1.0)]  # subdomain 8\n",
    "]"
   ]
  },
  {
   "cell_type": "code",
   "execution_count": null,
   "id": "8cecadf2",
   "metadata": {},
   "outputs": [],
   "source": [
    "boundaries_vertices = [\n",
    "    [(-1.0, -1.0), (1.0, -1.0)],  # boundary 1, bottom inner\n",
    "    [(-1.0, -1.0), (-1.0, 1.0)],  # boundary 2, left inner\n",
    "    [(-1.0, 1.0), (1.0, 1.0)],  # boundary 3, top inner\n",
    "    [(1.0, -1.0), (1.0, 1.0)],  # boundary 4, right inner\n",
    "    [(-2.0, -2.0), (2.0, -2.0)],  # boundary 5, bottom outer\n",
    "    [(-2.0, -2.0), (-2.0, 2.0)],  # boundary 6, left outer\n",
    "    [(-2.0, 2.0), (2.0, 2.0)],  # boundary 7, top outer\n",
    "    [(2.0, -2.0), (2.0, 2.0)]  # boundary 8, right outer\n",
    "]"
   ]
  },
  {
   "cell_type": "code",
   "execution_count": null,
   "id": "7e42bb45",
   "metadata": {},
   "outputs": [],
   "source": [
    "gmsh.initialize()\n",
    "gmsh.model.add(\"hole\")"
   ]
  },
  {
   "cell_type": "code",
   "execution_count": null,
   "id": "1a68da9a",
   "metadata": {},
   "outputs": [],
   "source": [
    "gmsh_points = dict()\n",
    "for subdomain_vertices in subdomains_vertices:\n",
    "    for vertex in subdomain_vertices:\n",
    "        try:\n",
    "            gmsh_points[vertex]\n",
    "        except KeyError:\n",
    "            gmsh_points[vertex] = gmsh.model.geo.addPoint(vertex[0], vertex[1], 0.0, mesh_size)"
   ]
  },
  {
   "cell_type": "code",
   "execution_count": null,
   "id": "d0ea4c1f",
   "metadata": {},
   "outputs": [],
   "source": [
    "gmsh_lines = dict()\n",
    "gmsh_subdomains = list()\n",
    "for subdomain_vertices in subdomains_vertices:\n",
    "    subdomain_lines = list()\n",
    "    for v in range(3):\n",
    "        key = (gmsh_points[subdomain_vertices[v]], gmsh_points[subdomain_vertices[(v + 1) % 3]])\n",
    "        try:\n",
    "            gmsh_lines[key]\n",
    "        except KeyError:\n",
    "            gmsh_lines[key] = gmsh.model.geo.addLine(*key)\n",
    "            gmsh_lines[key[1], key[0]] = - gmsh_lines[key]\n",
    "        subdomain_lines.append(gmsh_lines[key])\n",
    "    subdomain_lines_loop = gmsh.model.geo.addCurveLoop(subdomain_lines)\n",
    "    gmsh_subdomains.append(gmsh.model.geo.addPlaneSurface([subdomain_lines_loop]))"
   ]
  },
  {
   "cell_type": "code",
   "execution_count": null,
   "id": "8777bb32",
   "metadata": {},
   "outputs": [],
   "source": [
    "gmsh.model.geo.synchronize()\n",
    "for (label, gmsh_subdomain) in enumerate(gmsh_subdomains):\n",
    "    gmsh.model.addPhysicalGroup(2, [gmsh_subdomain], label + 1)\n",
    "for (label, boundary) in enumerate(boundaries_vertices):\n",
    "    gmsh.model.addPhysicalGroup(1, [gmsh_lines[gmsh_points[boundary[0]], gmsh_points[boundary[1]]]], label + 1)\n",
    "gmsh.model.mesh.generate(2)"
   ]
  },
  {
   "cell_type": "code",
   "execution_count": null,
   "id": "480dabef",
   "metadata": {},
   "outputs": [],
   "source": [
    "mesh, subdomains, boundaries = multiphenicsx.mesh.gmsh_to_fenicsx(gmsh.model, gdim=2)\n",
    "gmsh.finalize()"
   ]
  },
  {
   "cell_type": "code",
   "execution_count": null,
   "id": "d18a5d9d",
   "metadata": {},
   "outputs": [],
   "source": [
    "multiphenicsx.io.plot_mesh(mesh)"
   ]
  },
  {
   "cell_type": "code",
   "execution_count": null,
   "id": "8aaf32cf",
   "metadata": {},
   "outputs": [],
   "source": [
    "multiphenicsx.io.plot_mesh_tags(subdomains)"
   ]
  },
  {
   "cell_type": "code",
   "execution_count": null,
   "id": "8a06605a",
   "metadata": {},
   "outputs": [],
   "source": [
    "multiphenicsx.io.plot_mesh_tags(boundaries)"
   ]
  }
 ],
 "metadata": {
  "kernelspec": {
   "display_name": "Python 3 (ipykernel)",
   "language": "python",
   "name": "python3"
  },
  "language_info": {
   "codemirror_mode": {
    "name": "ipython"
   },
   "file_extension": ".py",
   "mimetype": "text/x-python",
   "name": "python",
   "nbconvert_exporter": "python"
  }
 },
 "nbformat": 4,
 "nbformat_minor": 5
}
