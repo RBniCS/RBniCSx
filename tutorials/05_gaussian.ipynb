{
 "cells": [
  {
   "cell_type": "markdown",
   "id": "83b31d15",
   "metadata": {},
   "source": [
    "# Tutorial 05 - Gaussian"
   ]
  },
  {
   "cell_type": "code",
   "execution_count": null,
   "id": "2dfe0e6b",
   "metadata": {},
   "outputs": [],
   "source": [
    "import typing"
   ]
  },
  {
   "cell_type": "code",
   "execution_count": null,
   "id": "c317d71d",
   "metadata": {},
   "outputs": [],
   "source": [
    "import dolfinx.fem\n",
    "import dolfinx.fem.petsc\n",
    "import dolfinx.io\n",
    "import gmsh\n",
    "import mpi4py.MPI\n",
    "import numpy as np\n",
    "import numpy.typing\n",
    "import petsc4py.PETSc\n",
    "import ufl\n",
    "import viskex"
   ]
  },
  {
   "cell_type": "code",
   "execution_count": null,
   "id": "14eea500",
   "metadata": {},
   "outputs": [],
   "source": [
    "import rbnicsx.backends"
   ]
  },
  {
   "cell_type": "markdown",
   "id": "518a8e67",
   "metadata": {},
   "source": [
    "## 1. Mesh generation"
   ]
  },
  {
   "cell_type": "code",
   "execution_count": null,
   "id": "d7930eb0",
   "metadata": {},
   "outputs": [],
   "source": [
    "mesh_size = 1e-1"
   ]
  },
  {
   "cell_type": "code",
   "execution_count": null,
   "id": "192d21a3",
   "metadata": {},
   "outputs": [],
   "source": [
    "gmsh.initialize()\n",
    "gmsh.model.add(\"gaussian\")"
   ]
  },
  {
   "cell_type": "code",
   "execution_count": null,
   "id": "eadcb5ee",
   "metadata": {},
   "outputs": [],
   "source": [
    "p0 = gmsh.model.geo.addPoint(-1.0, -1.0, 0.0, mesh_size)\n",
    "p1 = gmsh.model.geo.addPoint(1.0, -1.0, 0.0, mesh_size)\n",
    "p2 = gmsh.model.geo.addPoint(1.0, 1.0, 0.0, mesh_size)\n",
    "p3 = gmsh.model.geo.addPoint(-1.0, 1.0, 0.0, mesh_size)\n",
    "l0 = gmsh.model.geo.addLine(p0, p1)\n",
    "l1 = gmsh.model.geo.addLine(p1, p2)\n",
    "l2 = gmsh.model.geo.addLine(p2, p3)\n",
    "l3 = gmsh.model.geo.addLine(p3, p0)\n",
    "boundary = gmsh.model.geo.addCurveLoop([l0, l1, l2, l3])\n",
    "domain = gmsh.model.geo.addPlaneSurface([boundary])"
   ]
  },
  {
   "cell_type": "code",
   "execution_count": null,
   "id": "befaeb60",
   "metadata": {},
   "outputs": [],
   "source": [
    "gmsh.model.geo.synchronize()\n",
    "gmsh.model.addPhysicalGroup(1, [l0], 1)\n",
    "gmsh.model.addPhysicalGroup(1, [l1, l3], 2)\n",
    "gmsh.model.addPhysicalGroup(1, [l2], 3)\n",
    "gmsh.model.addPhysicalGroup(2, [domain], 1)\n",
    "gmsh.model.mesh.generate(2)"
   ]
  },
  {
   "cell_type": "code",
   "execution_count": null,
   "id": "5c040cfc",
   "metadata": {},
   "outputs": [],
   "source": [
    "mesh, subdomains, boundaries = dolfinx.io.gmshio.model_to_mesh(\n",
    "    gmsh.model, comm=mpi4py.MPI.COMM_WORLD, rank=0, gdim=2)\n",
    "gmsh.finalize()"
   ]
  },
  {
   "cell_type": "code",
   "execution_count": null,
   "id": "230a5fd5",
   "metadata": {},
   "outputs": [],
   "source": [
    "viskex.dolfinx.plot_mesh(mesh)"
   ]
  },
  {
   "cell_type": "code",
   "execution_count": null,
   "id": "4e93d10f",
   "metadata": {},
   "outputs": [],
   "source": [
    "viskex.dolfinx.plot_mesh_tags(mesh, subdomains, \"subdomains\")"
   ]
  },
  {
   "cell_type": "code",
   "execution_count": null,
   "id": "4d6896ab",
   "metadata": {},
   "outputs": [],
   "source": [
    "viskex.dolfinx.plot_mesh_tags(mesh, boundaries, \"boundaries\")"
   ]
  },
  {
   "cell_type": "markdown",
   "id": "3b2b80af",
   "metadata": {},
   "source": [
    "## 2. Problem definition"
   ]
  },
  {
   "cell_type": "code",
   "execution_count": null,
   "id": "36b773d9",
   "metadata": {},
   "outputs": [],
   "source": [
    "class Problem(object):\n",
    "    \"\"\"Define a linear problem, and solve it with KSP.\"\"\"\n",
    "\n",
    "    def __init__(self) -> None:\n",
    "        # Define function space\n",
    "        V = dolfinx.fem.functionspace(mesh, (\"Lagrange\", 1))\n",
    "        self._V = V\n",
    "        # Define trial and test functions\n",
    "        u = ufl.TrialFunction(V)\n",
    "        v = ufl.TestFunction(V)\n",
    "        # Define solution\n",
    "        solution = dolfinx.fem.Function(V)\n",
    "        self._solution = solution\n",
    "        # Define symbolic parameters for use in UFL forms\n",
    "        mu_symb = rbnicsx.backends.SymbolicParameters(mesh, shape=(2, ))\n",
    "        self._mu_symb = mu_symb\n",
    "        # Define bilinear form of the problem\n",
    "        a = ufl.inner(ufl.grad(u), ufl.grad(v)) * ufl.dx\n",
    "        self._a = a\n",
    "        self._a_cpp = dolfinx.fem.form(a)\n",
    "        # Define linear form of the problem\n",
    "        x = ufl.SpatialCoordinate(mesh)\n",
    "        g = ufl.exp(- 2 * (x[0] - mu_symb[0])**2 - 2 * (x[1] - mu_symb[1])**2)\n",
    "        f = ufl.inner(g, v) * ufl.dx\n",
    "        self._f = f\n",
    "        self._f_cpp = dolfinx.fem.form(f)\n",
    "        # Define boundary conditions for the problem\n",
    "        zero = petsc4py.PETSc.ScalarType(0)\n",
    "        bdofs_V = dolfinx.fem.locate_dofs_topological(V, mesh.topology.dim - 1, boundaries.indices)\n",
    "        bcs = [dolfinx.fem.dirichletbc(zero, bdofs_V, V)]\n",
    "        self._bcs = bcs\n",
    "\n",
    "    @property\n",
    "    def function_space(self) -> dolfinx.fem.FunctionSpaceBase:\n",
    "        \"\"\"Return the function space of the problem.\"\"\"\n",
    "        return self._V\n",
    "\n",
    "    @property\n",
    "    def bilinear_form(self) -> ufl.Form:  # type: ignore[no-any-unimported]\n",
    "        \"\"\"Return the bilinear form of the problem.\"\"\"\n",
    "        return self._a\n",
    "\n",
    "    @property\n",
    "    def linear_form(self) -> ufl.Form:  # type: ignore[no-any-unimported]\n",
    "        \"\"\"Return the linear form of the problem.\"\"\"\n",
    "        return self._f\n",
    "\n",
    "    @property\n",
    "    def boundary_conditions(self) -> typing.List[dolfinx.fem.DirichletBC]:\n",
    "        \"\"\"Return the boundary conditions for the problem.\"\"\"\n",
    "        return self._bcs\n",
    "\n",
    "    def _assemble_matrix(self) -> petsc4py.PETSc.Mat:  # type: ignore[no-any-unimported]\n",
    "        \"\"\"Assemble the left-hand side matrix.\"\"\"\n",
    "        A = dolfinx.fem.petsc.assemble_matrix(self._a_cpp, bcs=self._bcs)\n",
    "        A.assemble()\n",
    "        return A\n",
    "\n",
    "    def _assemble_vector(self) -> petsc4py.PETSc.Vec:  # type: ignore[no-any-unimported]\n",
    "        \"\"\"Assemble the right-hand side vector.\"\"\"\n",
    "        F = dolfinx.fem.petsc.assemble_vector(self._f_cpp)\n",
    "        F.ghostUpdate(addv=petsc4py.PETSc.InsertMode.ADD, mode=petsc4py.PETSc.ScatterMode.REVERSE)\n",
    "        dolfinx.fem.petsc.set_bc(F, self._bcs)\n",
    "        return F\n",
    "\n",
    "    def solve(self, mu: np.typing.NDArray[np.float64]) -> dolfinx.fem.Function:\n",
    "        \"\"\"Assign the provided parameters value and solve the problem.\"\"\"\n",
    "        self._mu_symb.value[:] = mu\n",
    "        return self._solve()\n",
    "\n",
    "    def _solve(self) -> dolfinx.fem.Function:\n",
    "        \"\"\"Solve the linear problem with KSP.\"\"\"\n",
    "        A = self._assemble_matrix()\n",
    "        F = self._assemble_vector()\n",
    "        ksp = petsc4py.PETSc.KSP()\n",
    "        ksp.create(mesh.comm)\n",
    "        ksp.setOperators(A)\n",
    "        ksp.setType(\"preonly\")\n",
    "        ksp.getPC().setType(\"lu\")\n",
    "        ksp.getPC().setFactorSolverType(\"mumps\")\n",
    "        ksp.setFromOptions()\n",
    "        solution = self._solution.copy()\n",
    "        ksp.solve(F, solution.vector)\n",
    "        solution.vector.ghostUpdate(\n",
    "            addv=petsc4py.PETSc.InsertMode.INSERT, mode=petsc4py.PETSc.ScatterMode.FORWARD)\n",
    "        A.destroy()\n",
    "        F.destroy()\n",
    "        ksp.destroy()\n",
    "        return solution"
   ]
  },
  {
   "cell_type": "code",
   "execution_count": null,
   "id": "e27d5ff7",
   "metadata": {},
   "outputs": [],
   "source": [
    "problem = Problem()"
   ]
  },
  {
   "cell_type": "code",
   "execution_count": null,
   "id": "69ff5e84",
   "metadata": {},
   "outputs": [],
   "source": [
    "mu_solve = np.array([0.3, -1.0])\n",
    "solution = problem.solve(mu_solve)"
   ]
  },
  {
   "cell_type": "code",
   "execution_count": null,
   "id": "94019a9f",
   "metadata": {},
   "outputs": [],
   "source": [
    "viskex.dolfinx.plot_scalar_field(solution, \"high fidelity solution\")"
   ]
  }
 ],
 "metadata": {
  "kernelspec": {
   "display_name": "Python 3 (ipykernel)",
   "language": "python",
   "name": "python3"
  },
  "language_info": {
   "codemirror_mode": {
    "name": "ipython"
   },
   "file_extension": ".py",
   "mimetype": "text/x-python",
   "name": "python",
   "nbconvert_exporter": "python"
  }
 },
 "nbformat": 4,
 "nbformat_minor": 5
}
