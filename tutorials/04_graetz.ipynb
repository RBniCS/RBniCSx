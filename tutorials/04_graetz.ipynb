{
 "cells": [
  {
   "cell_type": "markdown",
   "id": "0b3d1f86",
   "metadata": {},
   "source": [
    "# Tutorial 04 - Graetz"
   ]
  },
  {
   "cell_type": "code",
   "execution_count": null,
   "id": "55d8feba",
   "metadata": {},
   "outputs": [],
   "source": [
    "import typing"
   ]
  },
  {
   "cell_type": "code",
   "execution_count": null,
   "id": "f35da0f0",
   "metadata": {},
   "outputs": [],
   "source": [
    "import dolfinx.fem\n",
    "import dolfinx.io\n",
    "import gmsh\n",
    "import mpi4py.MPI\n",
    "import multiphenicsx.io\n",
    "import numpy as np\n",
    "import numpy.typing\n",
    "import petsc4py.PETSc\n",
    "import ufl"
   ]
  },
  {
   "cell_type": "code",
   "execution_count": null,
   "id": "9577c68c",
   "metadata": {},
   "outputs": [],
   "source": [
    "import rbnicsx.backends"
   ]
  },
  {
   "cell_type": "markdown",
   "id": "19ef4767",
   "metadata": {},
   "source": [
    "## 1. Mesh generation"
   ]
  },
  {
   "cell_type": "code",
   "execution_count": null,
   "id": "2e637612",
   "metadata": {},
   "outputs": [],
   "source": [
    "mesh_size = 5e-2"
   ]
  },
  {
   "cell_type": "code",
   "execution_count": null,
   "id": "39224586",
   "metadata": {},
   "outputs": [],
   "source": [
    "gmsh.initialize()\n",
    "gmsh.model.add(\"graetz\")"
   ]
  },
  {
   "cell_type": "code",
   "execution_count": null,
   "id": "f33c24a9",
   "metadata": {},
   "outputs": [],
   "source": [
    "p0 = gmsh.model.geo.addPoint(0.0, 0.0, 0.0, mesh_size)\n",
    "p1 = gmsh.model.geo.addPoint(1.0, 0.0, 0.0, mesh_size)\n",
    "p2 = gmsh.model.geo.addPoint(1.0, 1.0, 0.0, mesh_size)\n",
    "p3 = gmsh.model.geo.addPoint(0.0, 1.0, 0.0, mesh_size)\n",
    "l0 = gmsh.model.geo.addLine(p0, p1)\n",
    "l1 = gmsh.model.geo.addLine(p1, p2)\n",
    "l2 = gmsh.model.geo.addLine(p2, p3)\n",
    "l3 = gmsh.model.geo.addLine(p3, p0)\n",
    "left_loop = gmsh.model.geo.addCurveLoop([l0, l1, l2, l3])\n",
    "left_subdomain = gmsh.model.geo.addPlaneSurface([left_loop])"
   ]
  },
  {
   "cell_type": "code",
   "execution_count": null,
   "id": "fa192da9",
   "metadata": {},
   "outputs": [],
   "source": [
    "p4 = gmsh.model.geo.addPoint(2.0, 0.0, 0.0, mesh_size)\n",
    "p5 = gmsh.model.geo.addPoint(2.0, 1.0, 0.0, mesh_size)\n",
    "l4 = gmsh.model.geo.addLine(p1, p4)\n",
    "l5 = gmsh.model.geo.addLine(p4, p5)\n",
    "l6 = gmsh.model.geo.addLine(p5, p2)\n",
    "right_loop = gmsh.model.geo.addCurveLoop([l4, l5, l6, -l1])\n",
    "right_subdomain = gmsh.model.geo.addPlaneSurface([right_loop])"
   ]
  },
  {
   "cell_type": "code",
   "execution_count": null,
   "id": "07ed837a",
   "metadata": {},
   "outputs": [],
   "source": [
    "gmsh.model.geo.synchronize()\n",
    "gmsh.model.addPhysicalGroup(1, [l0], 1)\n",
    "gmsh.model.addPhysicalGroup(1, [l4], 2)\n",
    "gmsh.model.addPhysicalGroup(1, [l5], 3)\n",
    "gmsh.model.addPhysicalGroup(1, [l6], 4)\n",
    "gmsh.model.addPhysicalGroup(1, [l2], 5)\n",
    "gmsh.model.addPhysicalGroup(1, [l3], 6)\n",
    "gmsh.model.addPhysicalGroup(2, [left_subdomain], 1)\n",
    "gmsh.model.addPhysicalGroup(2, [right_subdomain], 2)\n",
    "gmsh.model.mesh.generate(2)"
   ]
  },
  {
   "cell_type": "code",
   "execution_count": null,
   "id": "0a701b16",
   "metadata": {},
   "outputs": [],
   "source": [
    "mesh, subdomains, boundaries = dolfinx.io.gmshio.model_to_mesh(\n",
    "    gmsh.model, comm=mpi4py.MPI.COMM_WORLD, rank=0, gdim=2)\n",
    "gmsh.finalize()"
   ]
  },
  {
   "cell_type": "code",
   "execution_count": null,
   "id": "641630b3",
   "metadata": {},
   "outputs": [],
   "source": [
    "multiphenicsx.io.plot_mesh(mesh)"
   ]
  },
  {
   "cell_type": "code",
   "execution_count": null,
   "id": "84d12e43",
   "metadata": {},
   "outputs": [],
   "source": [
    "multiphenicsx.io.plot_mesh_tags(subdomains)"
   ]
  },
  {
   "cell_type": "code",
   "execution_count": null,
   "id": "5892da85",
   "metadata": {},
   "outputs": [],
   "source": [
    "multiphenicsx.io.plot_mesh_tags(boundaries)"
   ]
  },
  {
   "cell_type": "markdown",
   "id": "c8eae5ce",
   "metadata": {},
   "source": [
    "## 2. Problem definition"
   ]
  },
  {
   "cell_type": "code",
   "execution_count": null,
   "id": "91d740ec",
   "metadata": {},
   "outputs": [],
   "source": [
    "class AffineShapeParametrization(rbnicsx.backends.MeshMotion):\n",
    "    \"\"\"Deform the domain with an affine shape parametrization.\"\"\"\n",
    "\n",
    "    def __init__(self, mu: np.typing.NDArray[np.float64]) -> None:\n",
    "        # Define function space\n",
    "        M = dolfinx.fem.VectorFunctionSpace(mesh, (\"Lagrange\", mesh.geometry.cmap.degree))\n",
    "        # Interpolate affine shape parametrization expression on a dolfinx Function\n",
    "        shape_parametrization = dolfinx.fem.Function(M)\n",
    "        shape_parametrization.interpolate(\n",
    "            lambda x: (x[0], x[1]), subdomains.indices[subdomains.values == 1])\n",
    "        shape_parametrization.interpolate(\n",
    "            lambda x: (mu[0] * (x[0] - 1) + 1, x[1]), subdomains.indices[subdomains.values == 2])\n",
    "        # Initialize mesh motion object\n",
    "        super().__init__(mesh, shape_parametrization)"
   ]
  },
  {
   "cell_type": "code",
   "execution_count": null,
   "id": "67769ab0",
   "metadata": {},
   "outputs": [],
   "source": [
    "mu_mesh_motion = np.array([10.0, np.nan])\n",
    "with AffineShapeParametrization(mu_mesh_motion):\n",
    "    multiphenicsx.io.plot_mesh_tags(subdomains)"
   ]
  },
  {
   "cell_type": "code",
   "execution_count": null,
   "id": "ef153549",
   "metadata": {},
   "outputs": [],
   "source": [
    "class Problem(object):\n",
    "    \"\"\"Define a linear problem, and solve it with KSP.\"\"\"\n",
    "\n",
    "    def __init__(self) -> None:\n",
    "        # Define function space\n",
    "        V = dolfinx.fem.FunctionSpace(mesh, (\"Lagrange\", 1))\n",
    "        self._V = V\n",
    "        # Define trial and test functions\n",
    "        u = ufl.TrialFunction(V)\n",
    "        v = ufl.TestFunction(V)\n",
    "        # Define solution\n",
    "        solution = dolfinx.fem.Function(V)\n",
    "        self._solution = solution\n",
    "        # Define symbolic parameters for use in UFL forms\n",
    "        mu_symb = rbnicsx.backends.SymbolicParameters(mesh, shape=(2, ))\n",
    "        self._mu_symb = mu_symb\n",
    "        # Define bilinear form of the problem\n",
    "        x = ufl.SpatialCoordinate(mesh)\n",
    "        beta = ufl.as_vector((x[1] * (1 - x[1]), 0))\n",
    "        a = (\n",
    "            mu_symb[1] * ufl.inner(ufl.grad(u), ufl.grad(v)) * ufl.dx\n",
    "            + ufl.inner(ufl.dot(beta, ufl.grad(u)), v) * ufl.dx\n",
    "        )\n",
    "        self._a = a\n",
    "        self._a_cpp = dolfinx.fem.form(a)\n",
    "        # Define linear form of the problem\n",
    "        zero = dolfinx.fem.Constant(mesh, petsc4py.PETSc.ScalarType(0))\n",
    "        f = ufl.inner(zero, v) * ufl.dx\n",
    "        self._f = f\n",
    "        self._f_cpp = dolfinx.fem.form(f)\n",
    "        # Define boundary conditions for the problem\n",
    "        one = dolfinx.fem.Constant(mesh, petsc4py.PETSc.ScalarType(1))\n",
    "        facets_zero = boundaries.indices[np.isin(boundaries.values, (1, 5, 6))]\n",
    "        facets_one = boundaries.indices[np.isin(boundaries.values, (2, 4))]\n",
    "        bdofs_V_zero = dolfinx.fem.locate_dofs_topological(V, mesh.topology.dim - 1, facets_zero)\n",
    "        bdofs_V_one = dolfinx.fem.locate_dofs_topological(V, mesh.topology.dim - 1, facets_one)\n",
    "        bcs = [dolfinx.fem.dirichletbc(zero, bdofs_V_zero, V), dolfinx.fem.dirichletbc(one, bdofs_V_one, V)]\n",
    "        self._bcs = bcs\n",
    "        # Prepare storage for mesh motion object\n",
    "        self._mesh_motion: typing.Optional[rbnicsx.backends.MeshMotion] = None\n",
    "\n",
    "    @property\n",
    "    def function_space(self) -> dolfinx.fem.FunctionSpace:\n",
    "        \"\"\"Return the function space of the problem.\"\"\"\n",
    "        return self._V\n",
    "\n",
    "    @property\n",
    "    def bilinear_form(self) -> ufl.Form:  # type: ignore[no-any-unimported]\n",
    "        \"\"\"Return the bilinear form of the problem.\"\"\"\n",
    "        return self._a\n",
    "\n",
    "    @property\n",
    "    def linear_form(self) -> ufl.Form:  # type: ignore[no-any-unimported]\n",
    "        \"\"\"Return the linear form of the problem.\"\"\"\n",
    "        return self._f\n",
    "\n",
    "    @property\n",
    "    def boundary_conditions(self) -> typing.List[dolfinx.fem.DirichletBCMetaClass]:\n",
    "        \"\"\"Return the boundary conditions for the problem.\"\"\"\n",
    "        return self._bcs\n",
    "\n",
    "    @property\n",
    "    def mesh_motion(self) -> rbnicsx.backends.MeshMotion:\n",
    "        \"\"\"Return the mesh motion object that was used in the latest solve.\"\"\"\n",
    "        assert self._mesh_motion is not None\n",
    "        return self._mesh_motion\n",
    "\n",
    "    def _assemble_matrix(self) -> petsc4py.PETSc.Mat:  # type: ignore[no-any-unimported]\n",
    "        \"\"\"Assemble the left-hand side matrix.\"\"\"\n",
    "        A = dolfinx.fem.petsc.assemble_matrix(self._a_cpp, bcs=self._bcs)\n",
    "        A.assemble()\n",
    "        return A\n",
    "\n",
    "    def _assemble_vector(self) -> petsc4py.PETSc.Vec:  # type: ignore[no-any-unimported]\n",
    "        \"\"\"Assemble the right-hand side vector.\"\"\"\n",
    "        F = dolfinx.fem.petsc.assemble_vector(self._f_cpp)\n",
    "        dolfinx.fem.petsc.apply_lifting(F, [self._a_cpp], [self._bcs])\n",
    "        F.ghostUpdate(addv=petsc4py.PETSc.InsertMode.ADD, mode=petsc4py.PETSc.ScatterMode.REVERSE)\n",
    "        dolfinx.fem.petsc.set_bc(F, self._bcs)\n",
    "        return F\n",
    "\n",
    "    def solve(self, mu: np.typing.NDArray[np.float64]) -> dolfinx.fem.Function:\n",
    "        \"\"\"Assign the provided parameters value, apply shape parametrization and solve the problem.\"\"\"\n",
    "        self._mu_symb.value[:] = mu\n",
    "        with AffineShapeParametrization(mu) as self._mesh_motion:\n",
    "            return self._solve()\n",
    "\n",
    "    def _solve(self) -> dolfinx.fem.Function:\n",
    "        \"\"\"Solve the linear problem with KSP.\"\"\"\n",
    "        A = self._assemble_matrix()\n",
    "        F = self._assemble_vector()\n",
    "        ksp = petsc4py.PETSc.KSP()\n",
    "        ksp.create(mesh.comm)\n",
    "        ksp.setOperators(A)\n",
    "        ksp.setType(\"preonly\")\n",
    "        ksp.getPC().setType(\"lu\")\n",
    "        ksp.getPC().setFactorSolverType(\"mumps\")\n",
    "        ksp.setFromOptions()\n",
    "        solution = self._solution.copy()\n",
    "        ksp.solve(F, solution.vector)\n",
    "        solution.vector.ghostUpdate(\n",
    "            addv=petsc4py.PETSc.InsertMode.INSERT, mode=petsc4py.PETSc.ScatterMode.FORWARD)\n",
    "        return solution"
   ]
  },
  {
   "cell_type": "code",
   "execution_count": null,
   "id": "b0de1fb0",
   "metadata": {},
   "outputs": [],
   "source": [
    "problem = Problem()"
   ]
  },
  {
   "cell_type": "code",
   "execution_count": null,
   "id": "7460b98b",
   "metadata": {},
   "outputs": [],
   "source": [
    "mu_solve = np.array([10.0, 0.01])\n",
    "solution = problem.solve(mu_solve)"
   ]
  },
  {
   "cell_type": "code",
   "execution_count": null,
   "id": "86aff412",
   "metadata": {},
   "outputs": [],
   "source": [
    "with problem.mesh_motion:\n",
    "    multiphenicsx.io.plot_scalar_field(solution, \"high fidelity solution\")"
   ]
  }
 ],
 "metadata": {
  "kernelspec": {
   "display_name": "Python 3 (ipykernel)",
   "language": "python",
   "name": "python3"
  },
  "language_info": {
   "codemirror_mode": {
    "name": "ipython"
   },
   "file_extension": ".py",
   "mimetype": "text/x-python",
   "name": "python",
   "nbconvert_exporter": "python"
  }
 },
 "nbformat": 4,
 "nbformat_minor": 5
}
