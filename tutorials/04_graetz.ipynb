{
 "cells": [
  {
   "cell_type": "markdown",
   "id": "0b3d1f86",
   "metadata": {},
   "source": [
    "# Tutorial 04 - Graetz"
   ]
  },
  {
   "cell_type": "code",
   "execution_count": null,
   "id": "f35da0f0",
   "metadata": {},
   "outputs": [],
   "source": [
    "# import dolfinx\n",
    "import gmsh\n",
    "import multiphenicsx.io\n",
    "import multiphenicsx.mesh"
   ]
  },
  {
   "cell_type": "code",
   "execution_count": null,
   "id": "9577c68c",
   "metadata": {},
   "outputs": [],
   "source": [
    "# import rbnicsx"
   ]
  },
  {
   "cell_type": "markdown",
   "id": "19ef4767",
   "metadata": {},
   "source": [
    "## 1. Mesh generation"
   ]
  },
  {
   "cell_type": "code",
   "execution_count": null,
   "id": "2e637612",
   "metadata": {},
   "outputs": [],
   "source": [
    "mesh_size = 5e-2"
   ]
  },
  {
   "cell_type": "code",
   "execution_count": null,
   "id": "39224586",
   "metadata": {},
   "outputs": [],
   "source": [
    "gmsh.initialize()\n",
    "gmsh.model.add(\"graetz\")"
   ]
  },
  {
   "cell_type": "code",
   "execution_count": null,
   "id": "f33c24a9",
   "metadata": {},
   "outputs": [],
   "source": [
    "p0 = gmsh.model.geo.addPoint(0.0, 0.0, 0.0, mesh_size)\n",
    "p1 = gmsh.model.geo.addPoint(1.0, 0.0, 0.0, mesh_size)\n",
    "p2 = gmsh.model.geo.addPoint(1.0, 1.0, 0.0, mesh_size)\n",
    "p3 = gmsh.model.geo.addPoint(0.0, 1.0, 0.0, mesh_size)\n",
    "l0 = gmsh.model.geo.addLine(p0, p1)\n",
    "l1 = gmsh.model.geo.addLine(p1, p2)\n",
    "l2 = gmsh.model.geo.addLine(p2, p3)\n",
    "l3 = gmsh.model.geo.addLine(p3, p0)\n",
    "left_loop = gmsh.model.geo.addCurveLoop([l0, l1, l2, l3])\n",
    "left_subdomain = gmsh.model.geo.addPlaneSurface([left_loop])"
   ]
  },
  {
   "cell_type": "code",
   "execution_count": null,
   "id": "fa192da9",
   "metadata": {},
   "outputs": [],
   "source": [
    "p4 = gmsh.model.geo.addPoint(2.0, 0.0, 0.0, mesh_size)\n",
    "p5 = gmsh.model.geo.addPoint(2.0, 1.0, 0.0, mesh_size)\n",
    "l4 = gmsh.model.geo.addLine(p1, p4)\n",
    "l5 = gmsh.model.geo.addLine(p4, p5)\n",
    "l6 = gmsh.model.geo.addLine(p5, p2)\n",
    "right_loop = gmsh.model.geo.addCurveLoop([l4, l5, l6, -l1])\n",
    "right_subdomain = gmsh.model.geo.addPlaneSurface([right_loop])"
   ]
  },
  {
   "cell_type": "code",
   "execution_count": null,
   "id": "07ed837a",
   "metadata": {},
   "outputs": [],
   "source": [
    "gmsh.model.geo.synchronize()\n",
    "gmsh.model.addPhysicalGroup(1, [l0], 1)\n",
    "gmsh.model.addPhysicalGroup(1, [l4], 2)\n",
    "gmsh.model.addPhysicalGroup(1, [l5], 3)\n",
    "gmsh.model.addPhysicalGroup(1, [l6], 4)\n",
    "gmsh.model.addPhysicalGroup(1, [l2], 5)\n",
    "gmsh.model.addPhysicalGroup(1, [l3], 6)\n",
    "gmsh.model.addPhysicalGroup(2, [left_subdomain], 1)\n",
    "gmsh.model.addPhysicalGroup(2, [right_subdomain], 2)\n",
    "gmsh.model.mesh.generate(2)"
   ]
  },
  {
   "cell_type": "code",
   "execution_count": null,
   "id": "0a701b16",
   "metadata": {},
   "outputs": [],
   "source": [
    "mesh, subdomains, boundaries = multiphenicsx.mesh.gmsh_to_fenicsx(gmsh.model, gdim=2)\n",
    "gmsh.finalize()"
   ]
  },
  {
   "cell_type": "code",
   "execution_count": null,
   "id": "641630b3",
   "metadata": {},
   "outputs": [],
   "source": [
    "multiphenicsx.io.plot_mesh(mesh)"
   ]
  },
  {
   "cell_type": "code",
   "execution_count": null,
   "id": "84d12e43",
   "metadata": {},
   "outputs": [],
   "source": [
    "multiphenicsx.io.plot_mesh_tags(subdomains)"
   ]
  },
  {
   "cell_type": "code",
   "execution_count": null,
   "id": "5892da85",
   "metadata": {},
   "outputs": [],
   "source": [
    "multiphenicsx.io.plot_mesh_tags(boundaries)"
   ]
  }
 ],
 "metadata": {
  "kernelspec": {
   "display_name": "Python 3 (ipykernel)",
   "language": "python",
   "name": "python3"
  },
  "language_info": {
   "codemirror_mode": {
    "name": "ipython"
   },
   "file_extension": ".py",
   "mimetype": "text/x-python",
   "name": "python",
   "nbconvert_exporter": "python"
  }
 },
 "nbformat": 4,
 "nbformat_minor": 5
}
