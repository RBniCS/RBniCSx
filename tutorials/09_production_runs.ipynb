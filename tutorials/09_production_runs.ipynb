{
 "cells": [
  {
   "cell_type": "markdown",
   "id": "8605678b",
   "metadata": {},
   "source": [
    "# Tutorial 09 - Production runs"
   ]
  }
 ],
 "metadata": {
  "kernelspec": {
   "display_name": "Python 3 (ipykernel)",
   "language": "python",
   "name": "python3"
  },
  "language_info": {
   "codemirror_mode": {
    "name": "ipython"
   },
   "file_extension": ".py",
   "mimetype": "text/x-python",
   "name": "python",
   "nbconvert_exporter": "python"
  }
 },
 "nbformat": 4,
 "nbformat_minor": 5
}
