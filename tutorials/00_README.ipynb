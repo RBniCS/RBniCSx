{
 "cells": [
  {
   "cell_type": "markdown",
   "id": "7c4a732c",
   "metadata": {},
   "source": [
    "# README\n",
    "## Quickstart\n",
    "\n",
    "## Tutorials classification\n",
    "### By parametrization\n",
    "| | 01 | 02 | 03 | 04 | 05 | 06 | 07 | 08 | 09 | 12 | 17 |\n",
    "| :- | :-: | :-: | :-: | :-: | :-: | :-: | :-: | :-: | :-: | :-: |:-: |\n",
    "| Physical | &#10004; | &#10004; | &#10004; | &#10004; | &#10004; | &#10004; | &#10004; | | &#10004; | | &#10004; |\n",
    "| Geometrical | | | &#10004; | &#10004; | | | | | |&#10004; | |\n",
    "| &#8627; Affine | | | &#10004; | &#10004; | | | | | | &#10004; | |\n",
    "| &#8627; Non-affine | | | &#10004; | | | | | | | | |\n",
    "| Time | | | | | | &#10004; | | &#10004; | | | |\n",
    "### By problem type\n",
    "| | 01 | 02 | 03 | 04 | 05 | 06 | 07 | 08 | 09 | 12 | 17 |\n",
    "| :- | :-: | :-: | :-: | :-: | :-: | :-: | :-: | :-: | :-: | :-: |:-: |\n",
    "| Stationary | &#10004; | &#10004; | &#10004; | &#10004; | &#10004; | | &#10004; | | &#10004; | &#10004; | &#10004; |\n",
    "| &#8627; Elliptic | &#10004; | &#10004; | &#10004; | &#10004; | &#10004; | | | | &#10004; | | |\n",
    "| &#8627; Nonlinear elliptic | | | | | | | &#10004; | | | | |\n",
    "| &#8627; Stokes | | | | | | &#10004; | | | | &#10004; | |\n",
    "| &#8627; Navier-Stokes | | | | | | &#10004; | | | | | &#10004; |\n",
    "| Unsteady | | | | | | &#10004; | | &#10004; | | | |\n",
    "| &#8627; Parabolic | | | | | | &#10004; | | | | | |\n",
    "| &#8627; Nonlinear parabolic |  | | | | | | | &#10004; | | | |\n",
    "### By Dirichlet boundary conditions\n",
    "| | 01 | 02 | 03 | 04 | 05 | 06 | 07 | 08 | 09 | 12 | 17 |\n",
    "| :- | :-: | :-: | :-: | :-: | :-: | :-: | :-: | :-: | :-: | :-: |:-: |\n",
    "| None | | | &#10004; | | | | | | | | |\n",
    "| Homogeneous | &#10004; | &#10004; | | | &#10004; | &#10004; | &#10004; | &#10004; | &#10004; | | |\n",
    "| Inhomogeneous | | | | &#10004; | | &#10004; | | | | &#10004; | &#10004; |\n",
    "| &#8627; Parameter independent | | | | &#10004; | | &#10004; | | | | &#10004; | |\n",
    "| &#8627; Parameter dependent | | | | &#10004; | | &#10004; | | | | | &#10004; |\n",
    "| &#8627; Time dependent | | | | | | &#10004; | | | | | |\n",
    "### By reduced order modelling technique\n",
    "| | 01 | 02 | 03 | 04 | 05 | 06 | 07 | 08 | 09 | 12 | 17 |\n",
    "| :- | :-: | :-: | :-: | :-: | :-: | :-: | :-: | :-: | :-: | :-: |:-: |\n",
    "| Certified Reduced Basis | &#10004; | &#10004; | | &#10004; | &#10004; | &#10004; | &#10004; | &#10004; | &#10004; | &#10004; | &#10004; |\n",
    "| Proper Orthogonal Decomposition-Galerkin | &#10004; | &#10004; | &#10004; | | | &#10004; | &#10004; | &#10004; | &#10004; | &#10004; | &#10004; |\n",
    "| Proper Orthogonal Decomposition-Neural Networks | &#10004; | &#10004; | | | | | | | | | &#10004; |\n",
    "### By hyperreduction technique\n",
    "| | 01 | 02 | 03 | 04 | 05 | 06 | 07 | 08 | 09 | 12 | 17 |\n",
    "| :- | :-: | :-: | :-: | :-: | :-: | :-: | :-: | :-: | :-: | :-: |:-: |\n",
    "| None: problem is separable | &#10004; | &#10004; | &#10004; | &#10004; | | &#10004; | | | &#10004; | &#10004; | |\n",
    "| None: inefficient online evaluation | &#10004; | &#10004; | &#10004; | | &#10004; | &#10004; | &#10004; | &#10004; | | &#10004; | &#10004; |\n",
    "| Empirical Interpolation Method | | | | | &#10004; | | &#10004; | &#10004; | | | &#10004; |\n",
    "| Discrete Empirical Interpolation Method | | | | | &#10004; | | &#10004; | &#10004; | | | &#10004; |\n",
    "### By stability factor estimation technique\n",
    "| | 01 | 02 | 03 | 04 | 05 | 06 | 07 | 08 | 09 | 12 | 17 |\n",
    "| :- | :-: | :-: | :-: | :-: | :-: | :-: | :-: | :-: | :-: | :-: |:-: |\n",
    "| Min-theta method | &#10004; | &#10004; | | | | | | | | | |\n",
    "| Successive Constraint Method | | | | &#10004; | | | | | | | |\n",
    "## Production usage\n",
    "### Interactive vs scripted\n",
    "### Serial vs parallel"
   ]
  }
 ],
 "metadata": {
  "kernelspec": {
   "display_name": "Python 3 (ipykernel)",
   "language": "python",
   "name": "python3"
  },
  "language_info": {
   "codemirror_mode": {
    "name": "ipython"
   },
   "file_extension": ".py",
   "mimetype": "text/x-python",
   "name": "python",
   "nbconvert_exporter": "python"
  }
 },
 "nbformat": 4,
 "nbformat_minor": 5
}
