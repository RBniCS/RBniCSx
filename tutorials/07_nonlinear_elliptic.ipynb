{
 "cells": [
  {
   "cell_type": "markdown",
   "id": "69729090",
   "metadata": {},
   "source": [
    "# Tutorial 07 - Nonlinear elliptic problems"
   ]
  },
  {
   "cell_type": "code",
   "execution_count": null,
   "id": "8f9507d9",
   "metadata": {},
   "outputs": [],
   "source": [
    "import gmsh\n",
    "import multiphenicsx.io\n",
    "import multiphenicsx.mesh"
   ]
  },
  {
   "cell_type": "markdown",
   "id": "ab96a18b",
   "metadata": {},
   "source": [
    "## 1. Mesh generation"
   ]
  },
  {
   "cell_type": "code",
   "execution_count": null,
   "id": "6464dc02",
   "metadata": {},
   "outputs": [],
   "source": [
    "mesh_size = 5e-2"
   ]
  },
  {
   "cell_type": "code",
   "execution_count": null,
   "id": "df05a250",
   "metadata": {},
   "outputs": [],
   "source": [
    "gmsh.initialize()\n",
    "gmsh.model.add(\"nonlinear_elliptic\")"
   ]
  },
  {
   "cell_type": "code",
   "execution_count": null,
   "id": "a60946ed",
   "metadata": {},
   "outputs": [],
   "source": [
    "p0 = gmsh.model.geo.addPoint(0.0, 0.0, 0.0, mesh_size)\n",
    "p1 = gmsh.model.geo.addPoint(1.0, 0.0, 0.0, mesh_size)\n",
    "p2 = gmsh.model.geo.addPoint(1.0, 1.0, 0.0, mesh_size)\n",
    "p3 = gmsh.model.geo.addPoint(0.0, 1.0, 0.0, mesh_size)\n",
    "l0 = gmsh.model.geo.addLine(p0, p1)\n",
    "l1 = gmsh.model.geo.addLine(p1, p2)\n",
    "l2 = gmsh.model.geo.addLine(p2, p3)\n",
    "l3 = gmsh.model.geo.addLine(p3, p0)\n",
    "boundary = gmsh.model.geo.addCurveLoop([l0, l1, l2, l3])\n",
    "domain = gmsh.model.geo.addPlaneSurface([boundary])"
   ]
  },
  {
   "cell_type": "code",
   "execution_count": null,
   "id": "29a2bb75",
   "metadata": {},
   "outputs": [],
   "source": [
    "gmsh.model.geo.synchronize()\n",
    "gmsh.model.addPhysicalGroup(1, [l0, l1, l2, l3], 1)\n",
    "gmsh.model.addPhysicalGroup(2, [domain], 1)\n",
    "gmsh.model.mesh.generate(2)"
   ]
  },
  {
   "cell_type": "code",
   "execution_count": null,
   "id": "42f75516",
   "metadata": {},
   "outputs": [],
   "source": [
    "mesh, subdomains, boundaries = multiphenicsx.mesh.gmsh_to_fenicsx(gmsh.model, gdim=2)\n",
    "gmsh.finalize()"
   ]
  },
  {
   "cell_type": "code",
   "execution_count": null,
   "id": "a78ce34d",
   "metadata": {},
   "outputs": [],
   "source": [
    "multiphenicsx.io.plot_mesh(mesh)"
   ]
  },
  {
   "cell_type": "code",
   "execution_count": null,
   "id": "79f3316c",
   "metadata": {},
   "outputs": [],
   "source": [
    "multiphenicsx.io.plot_mesh_tags(subdomains)"
   ]
  },
  {
   "cell_type": "code",
   "execution_count": null,
   "id": "17040985",
   "metadata": {},
   "outputs": [],
   "source": [
    "multiphenicsx.io.plot_mesh_tags(boundaries)"
   ]
  }
 ],
 "metadata": {
  "kernelspec": {
   "display_name": "Python 3 (ipykernel)",
   "language": "python",
   "name": "python3"
  },
  "language_info": {
   "codemirror_mode": {
    "name": "ipython"
   },
   "file_extension": ".py",
   "mimetype": "text/x-python",
   "name": "python",
   "nbconvert_exporter": "python"
  }
 },
 "nbformat": 4,
 "nbformat_minor": 5
}
