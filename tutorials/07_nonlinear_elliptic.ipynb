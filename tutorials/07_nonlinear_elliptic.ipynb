{
 "cells": [
  {
   "cell_type": "markdown",
   "id": "69729090",
   "metadata": {},
   "source": [
    "# Tutorial 07 - Nonlinear elliptic problems"
   ]
  },
  {
   "cell_type": "code",
   "execution_count": null,
   "id": "382adef5",
   "metadata": {},
   "outputs": [],
   "source": [
    "import typing"
   ]
  },
  {
   "cell_type": "code",
   "execution_count": null,
   "id": "8f9507d9",
   "metadata": {},
   "outputs": [],
   "source": [
    "import dolfinx.fem\n",
    "import dolfinx.fem.petsc\n",
    "import dolfinx.io\n",
    "import gmsh\n",
    "import mpi4py.MPI\n",
    "import numpy as np\n",
    "import numpy.typing\n",
    "import petsc4py.PETSc\n",
    "import ufl\n",
    "import viskex"
   ]
  },
  {
   "cell_type": "code",
   "execution_count": null,
   "id": "5c42db9b",
   "metadata": {},
   "outputs": [],
   "source": [
    "import rbnicsx.backends"
   ]
  },
  {
   "cell_type": "markdown",
   "id": "ab96a18b",
   "metadata": {},
   "source": [
    "## 1. Mesh generation"
   ]
  },
  {
   "cell_type": "code",
   "execution_count": null,
   "id": "6464dc02",
   "metadata": {},
   "outputs": [],
   "source": [
    "mesh_size = 5e-2"
   ]
  },
  {
   "cell_type": "code",
   "execution_count": null,
   "id": "df05a250",
   "metadata": {},
   "outputs": [],
   "source": [
    "gmsh.initialize()\n",
    "gmsh.model.add(\"nonlinear_elliptic\")"
   ]
  },
  {
   "cell_type": "code",
   "execution_count": null,
   "id": "a60946ed",
   "metadata": {},
   "outputs": [],
   "source": [
    "p0 = gmsh.model.geo.addPoint(0.0, 0.0, 0.0, mesh_size)\n",
    "p1 = gmsh.model.geo.addPoint(1.0, 0.0, 0.0, mesh_size)\n",
    "p2 = gmsh.model.geo.addPoint(1.0, 1.0, 0.0, mesh_size)\n",
    "p3 = gmsh.model.geo.addPoint(0.0, 1.0, 0.0, mesh_size)\n",
    "l0 = gmsh.model.geo.addLine(p0, p1)\n",
    "l1 = gmsh.model.geo.addLine(p1, p2)\n",
    "l2 = gmsh.model.geo.addLine(p2, p3)\n",
    "l3 = gmsh.model.geo.addLine(p3, p0)\n",
    "boundary = gmsh.model.geo.addCurveLoop([l0, l1, l2, l3])\n",
    "domain = gmsh.model.geo.addPlaneSurface([boundary])"
   ]
  },
  {
   "cell_type": "code",
   "execution_count": null,
   "id": "29a2bb75",
   "metadata": {},
   "outputs": [],
   "source": [
    "gmsh.model.geo.synchronize()\n",
    "gmsh.model.addPhysicalGroup(1, [l0, l1, l2, l3], 1)\n",
    "gmsh.model.addPhysicalGroup(2, [domain], 1)\n",
    "gmsh.model.mesh.generate(2)"
   ]
  },
  {
   "cell_type": "code",
   "execution_count": null,
   "id": "42f75516",
   "metadata": {},
   "outputs": [],
   "source": [
    "mesh, subdomains, boundaries = dolfinx.io.gmshio.model_to_mesh(\n",
    "    gmsh.model, comm=mpi4py.MPI.COMM_WORLD, rank=0, gdim=2)\n",
    "gmsh.finalize()"
   ]
  },
  {
   "cell_type": "code",
   "execution_count": null,
   "id": "a78ce34d",
   "metadata": {},
   "outputs": [],
   "source": [
    "viskex.dolfinx.plot_mesh(mesh)"
   ]
  },
  {
   "cell_type": "code",
   "execution_count": null,
   "id": "79f3316c",
   "metadata": {},
   "outputs": [],
   "source": [
    "viskex.dolfinx.plot_mesh_tags(mesh, subdomains, \"subdomains\")"
   ]
  },
  {
   "cell_type": "code",
   "execution_count": null,
   "id": "17040985",
   "metadata": {},
   "outputs": [],
   "source": [
    "viskex.dolfinx.plot_mesh_tags(mesh, boundaries, \"boundaries\")"
   ]
  },
  {
   "cell_type": "markdown",
   "id": "2599f655",
   "metadata": {},
   "source": [
    "## 2. Problem definition"
   ]
  },
  {
   "cell_type": "code",
   "execution_count": null,
   "id": "5aa563b1",
   "metadata": {},
   "outputs": [],
   "source": [
    "class Problem(object):\n",
    "    \"\"\"Define a nonlinear problem, and solve it with SNES.\"\"\"\n",
    "\n",
    "    def __init__(self) -> None:\n",
    "        # Define function space\n",
    "        V = dolfinx.fem.functionspace(mesh, (\"Lagrange\", 1))\n",
    "        self._V = V\n",
    "        # Define test function\n",
    "        v = ufl.TestFunction(V)\n",
    "        # Define solution\n",
    "        u = dolfinx.fem.Function(V)\n",
    "        self._solution = u\n",
    "        # Define symbolic parameters for use in UFL forms\n",
    "        mu_symb = rbnicsx.backends.SymbolicParameters(mesh, shape=(2, ))\n",
    "        self._mu_symb = mu_symb\n",
    "        # Define residual form of the problem\n",
    "        x = ufl.SpatialCoordinate(mesh)\n",
    "        g = 100 * ufl.sin(2 * ufl.pi * x[0]) * ufl.sin(2 * ufl.pi * x[1])\n",
    "        residual = (\n",
    "            ufl.inner(ufl.grad(u), ufl.grad(v)) * ufl.dx\n",
    "            + ufl.inner(mu_symb[0] * (ufl.exp(mu_symb[1] * u) - 1) / mu_symb[1], v) * ufl.dx\n",
    "            - ufl.inner(g, v) * ufl.dx\n",
    "        )\n",
    "        self._residual = residual\n",
    "        self._residual_cpp = dolfinx.fem.form(residual)\n",
    "        # Define jacobian form of the problem\n",
    "        jacobian = ufl.derivative(residual, u)\n",
    "        self._jacobian = jacobian\n",
    "        self._jacobian_cpp = dolfinx.fem.form(jacobian)\n",
    "        # Define boundary conditions for the problem\n",
    "        zero = petsc4py.PETSc.ScalarType(0)\n",
    "        bdofs_V = dolfinx.fem.locate_dofs_topological(V, mesh.topology.dim - 1, boundaries.indices)\n",
    "        bcs = [dolfinx.fem.dirichletbc(zero, bdofs_V, V)]\n",
    "        self._bcs = bcs\n",
    "\n",
    "    @property\n",
    "    def function_space(self) -> dolfinx.fem.FunctionSpaceBase:\n",
    "        \"\"\"Return the function space of the problem.\"\"\"\n",
    "        return self._V\n",
    "\n",
    "    @property\n",
    "    def solution(self) -> dolfinx.fem.Function:\n",
    "        \"\"\"Return the solution of the problem for the latest parameter value.\"\"\"\n",
    "        return self._solution\n",
    "\n",
    "    @property\n",
    "    def residual_form(self) -> ufl.Form:  # type: ignore[no-any-unimported]\n",
    "        \"\"\"Return the residual form of the problem.\"\"\"\n",
    "        return self._residual\n",
    "\n",
    "    @property\n",
    "    def jacobian_form(self) -> ufl.Form:  # type: ignore[no-any-unimported]\n",
    "        \"\"\"Return the jacobian form of the problem.\"\"\"\n",
    "        return self._jacobian\n",
    "\n",
    "    @property\n",
    "    def boundary_conditions(self) -> typing.List[dolfinx.fem.DirichletBC]:\n",
    "        \"\"\"Return the boundary conditions for the problem.\"\"\"\n",
    "        return self._bcs\n",
    "\n",
    "    def update_solution(self, x: petsc4py.PETSc.Vec) -> None:  # type: ignore[no-any-unimported]\n",
    "        \"\"\"Update `self._solution` with data in `x`.\"\"\"\n",
    "        x.ghostUpdate(addv=petsc4py.PETSc.InsertMode.INSERT, mode=petsc4py.PETSc.ScatterMode.FORWARD)\n",
    "        with x.localForm() as _x, self._solution.vector.localForm() as _solution:\n",
    "            _solution[:] = _x\n",
    "\n",
    "    def _assemble_residual(  # type: ignore[no-any-unimported]\n",
    "        self, snes: petsc4py.PETSc.SNES, x: petsc4py.PETSc.Vec, residual_vec: petsc4py.PETSc.Vec\n",
    "    ) -> None:\n",
    "        \"\"\"Assemble the residual.\"\"\"\n",
    "        self.update_solution(x)\n",
    "        with residual_vec.localForm() as residual_vec_local:\n",
    "            residual_vec_local.set(0.0)\n",
    "        dolfinx.fem.petsc.assemble_vector(residual_vec, self._residual_cpp)\n",
    "        residual_vec.ghostUpdate(addv=petsc4py.PETSc.InsertMode.ADD, mode=petsc4py.PETSc.ScatterMode.REVERSE)\n",
    "        dolfinx.fem.petsc.set_bc(residual_vec, self._bcs, x, -1.0)\n",
    "\n",
    "    def _assemble_jacobian(  # type: ignore[no-any-unimported]\n",
    "        self, snes: petsc4py.PETSc.SNES, x: petsc4py.PETSc.Vec, jacobian_mat: petsc4py.PETSc.Mat,\n",
    "        preconditioner_mat: petsc4py.PETSc.Mat\n",
    "    ) -> None:\n",
    "        \"\"\"Assemble the jacobian.\"\"\"\n",
    "        jacobian_mat.zeroEntries()\n",
    "        dolfinx.fem.petsc.assemble_matrix(  # type: ignore[misc]\n",
    "            jacobian_mat, self._jacobian_cpp, self._bcs, diagonal=1.0)  # type: ignore[arg-type]\n",
    "        jacobian_mat.assemble()\n",
    "\n",
    "    def solve(self, mu: np.typing.NDArray[np.float64]) -> dolfinx.fem.Function:\n",
    "        \"\"\"Assign the provided parameters value and solve the problem.\"\"\"\n",
    "        self._mu_symb.value[:] = mu\n",
    "        return self._solve()\n",
    "\n",
    "    def _solve(self) -> dolfinx.fem.Function:\n",
    "        \"\"\"Solve the nonlinear problem with SNES.\"\"\"\n",
    "        snes = petsc4py.PETSc.SNES().create(mesh.comm)\n",
    "        snes.setTolerances(max_it=20)\n",
    "        snes.getKSP().setType(\"preonly\")\n",
    "        snes.getKSP().getPC().setType(\"lu\")\n",
    "        snes.getKSP().getPC().setFactorSolverType(\"mumps\")\n",
    "        residual_vec = dolfinx.fem.petsc.create_vector(self._residual_cpp)\n",
    "        snes.setFunction(self._assemble_residual, residual_vec)\n",
    "        jacobian_mat = dolfinx.fem.petsc.create_matrix(self._jacobian_cpp)\n",
    "        snes.setJacobian(self._assemble_jacobian, J=jacobian_mat, P=None)\n",
    "        snes.setMonitor(lambda _, it, residual: print(it, residual))\n",
    "        solution_copy = self._solution.vector.copy()\n",
    "        snes.solve(None, solution_copy)\n",
    "        self.update_solution(solution_copy)\n",
    "        residual_vec.destroy()\n",
    "        jacobian_mat.destroy()\n",
    "        solution_copy.destroy()\n",
    "        snes.destroy()\n",
    "        return self._solution"
   ]
  },
  {
   "cell_type": "code",
   "execution_count": null,
   "id": "6707bcc6",
   "metadata": {},
   "outputs": [],
   "source": [
    "problem = Problem()"
   ]
  },
  {
   "cell_type": "code",
   "execution_count": null,
   "id": "5220f433",
   "metadata": {},
   "outputs": [],
   "source": [
    "mu_solve = np.array([0.3, 9.0])\n",
    "solution = problem.solve(mu_solve)"
   ]
  },
  {
   "cell_type": "code",
   "execution_count": null,
   "id": "0914e392",
   "metadata": {},
   "outputs": [],
   "source": [
    "viskex.dolfinx.plot_scalar_field(solution, \"high fidelity solution\")"
   ]
  }
 ],
 "metadata": {
  "kernelspec": {
   "display_name": "Python 3 (ipykernel)",
   "language": "python",
   "name": "python3"
  },
  "language_info": {
   "codemirror_mode": {
    "name": "ipython"
   },
   "file_extension": ".py",
   "mimetype": "text/x-python",
   "name": "python",
   "nbconvert_exporter": "python"
  }
 },
 "nbformat": 4,
 "nbformat_minor": 5
}
