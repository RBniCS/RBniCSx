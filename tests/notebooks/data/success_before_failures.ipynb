{
 "cells": [
  {
   "cell_type": "code",
   "execution_count": null,
   "id": "38b770c0",
   "metadata": {},
   "outputs": [],
   "source": [
    "import mpi4py\n",
    "import mpi4py.MPI"
   ]
  },
  {
   "cell_type": "code",
   "execution_count": null,
   "id": "75bea0a2",
   "metadata": {},
   "outputs": [],
   "source": [
    "assert mpi4py.MPI.COMM_WORLD.size > 0"
   ]
  }
 ],
 "metadata": {
  "kernelspec": {
   "display_name": "Python 3 (ipykernel)",
   "language": "python",
   "name": "python3"
  },
  "language_info": {
   "codemirror_mode": {
    "name": "ipython"
   },
   "file_extension": ".py",
   "mimetype": "text/x-python",
   "name": "python",
   "nbconvert_exporter": "python"
  }
 },
 "nbformat": 4,
 "nbformat_minor": 5
}
